{
 "cells": [
  {
   "cell_type": "markdown",
   "metadata": {},
   "source": [
    "# Data-Wrangling for Credit Card Default Data"
   ]
  },
  {
   "cell_type": "markdown",
   "metadata": {},
   "source": [
    "### Import libraries and modify notebook settings"
   ]
  },
  {
   "cell_type": "code",
   "execution_count": 1,
   "metadata": {
    "collapsed": true
   },
   "outputs": [],
   "source": [
    "# Import libraries\n",
    "import os\n",
    "import sys\n",
    "import inspect\n",
    "\n",
    "import numpy as np\n",
    "import pandas as pd\n",
    "import matplotlib.pyplot as plt\n",
    "import matplotlib.ticker as mtick\n",
    "import seaborn as sns\n",
    "\n",
    "from IPython.display import display, HTML, Markdown\n",
    "\n",
    "# Modify notebook settings\n",
    "%matplotlib inline\n",
    "sns.set_style(\"whitegrid\")\n",
    "pd.options.display.max_columns = 100"
   ]
  },
  {
   "cell_type": "markdown",
   "metadata": {},
   "source": [
    "### Create paths to data folders and files"
   ]
  },
  {
   "cell_type": "code",
   "execution_count": 2,
   "metadata": {
    "collapsed": true
   },
   "outputs": [],
   "source": [
    "# Create a variable for the project root directory\n",
    "proj_root = os.path.join(os.pardir)\n",
    "\n",
    "# Save path to the raw data file\n",
    "# \"default of credit card clients.xls\"\n",
    "raw_data_file = os.path.join(proj_root,\n",
    "                                \"data\",\n",
    "                                \"raw\",\n",
    "                                \"default of credit card clients.xls\")\n",
    "\n",
    "# Save the path to the folder that will contain \n",
    "# the interim data sets for modeling:\n",
    "# /data/interim\n",
    "interim_data_dir = os.path.join(proj_root,\n",
    "                                \"data\",\n",
    "                                \"interim\")"
   ]
  },
  {
   "cell_type": "code",
   "execution_count": 3,
   "metadata": {
    "collapsed": true
   },
   "outputs": [],
   "source": [
    "# add the 'src' directory as one where we can import modules\n",
    "src_dir = os.path.join(proj_root, \"src\")\n",
    "sys.path.append(src_dir)"
   ]
  },
  {
   "cell_type": "markdown",
   "metadata": {},
   "source": [
    "### Read in raw data"
   ]
  },
  {
   "cell_type": "code",
   "execution_count": 4,
   "metadata": {
    "scrolled": true
   },
   "outputs": [
    {
     "data": {
      "text/html": [
       "<div>\n",
       "<style>\n",
       "    .dataframe thead tr:only-child th {\n",
       "        text-align: right;\n",
       "    }\n",
       "\n",
       "    .dataframe thead th {\n",
       "        text-align: left;\n",
       "    }\n",
       "\n",
       "    .dataframe tbody tr th {\n",
       "        vertical-align: top;\n",
       "    }\n",
       "</style>\n",
       "<table border=\"1\" class=\"dataframe\">\n",
       "  <thead>\n",
       "    <tr style=\"text-align: right;\">\n",
       "      <th></th>\n",
       "      <th>LIMIT_BAL</th>\n",
       "      <th>SEX</th>\n",
       "      <th>EDUCATION</th>\n",
       "      <th>MARRIAGE</th>\n",
       "      <th>AGE</th>\n",
       "      <th>PAY_0</th>\n",
       "      <th>PAY_2</th>\n",
       "      <th>PAY_3</th>\n",
       "      <th>PAY_4</th>\n",
       "      <th>PAY_5</th>\n",
       "      <th>PAY_6</th>\n",
       "      <th>BILL_AMT1</th>\n",
       "      <th>BILL_AMT2</th>\n",
       "      <th>BILL_AMT3</th>\n",
       "      <th>BILL_AMT4</th>\n",
       "      <th>BILL_AMT5</th>\n",
       "      <th>BILL_AMT6</th>\n",
       "      <th>PAY_AMT1</th>\n",
       "      <th>PAY_AMT2</th>\n",
       "      <th>PAY_AMT3</th>\n",
       "      <th>PAY_AMT4</th>\n",
       "      <th>PAY_AMT5</th>\n",
       "      <th>PAY_AMT6</th>\n",
       "      <th>default payment next month</th>\n",
       "    </tr>\n",
       "    <tr>\n",
       "      <th>ID</th>\n",
       "      <th></th>\n",
       "      <th></th>\n",
       "      <th></th>\n",
       "      <th></th>\n",
       "      <th></th>\n",
       "      <th></th>\n",
       "      <th></th>\n",
       "      <th></th>\n",
       "      <th></th>\n",
       "      <th></th>\n",
       "      <th></th>\n",
       "      <th></th>\n",
       "      <th></th>\n",
       "      <th></th>\n",
       "      <th></th>\n",
       "      <th></th>\n",
       "      <th></th>\n",
       "      <th></th>\n",
       "      <th></th>\n",
       "      <th></th>\n",
       "      <th></th>\n",
       "      <th></th>\n",
       "      <th></th>\n",
       "      <th></th>\n",
       "    </tr>\n",
       "  </thead>\n",
       "  <tbody>\n",
       "    <tr>\n",
       "      <th>1</th>\n",
       "      <td>20000</td>\n",
       "      <td>2</td>\n",
       "      <td>2</td>\n",
       "      <td>1</td>\n",
       "      <td>24</td>\n",
       "      <td>2</td>\n",
       "      <td>2</td>\n",
       "      <td>-1</td>\n",
       "      <td>-1</td>\n",
       "      <td>-2</td>\n",
       "      <td>-2</td>\n",
       "      <td>3913</td>\n",
       "      <td>3102</td>\n",
       "      <td>689</td>\n",
       "      <td>0</td>\n",
       "      <td>0</td>\n",
       "      <td>0</td>\n",
       "      <td>0</td>\n",
       "      <td>689</td>\n",
       "      <td>0</td>\n",
       "      <td>0</td>\n",
       "      <td>0</td>\n",
       "      <td>0</td>\n",
       "      <td>1</td>\n",
       "    </tr>\n",
       "    <tr>\n",
       "      <th>2</th>\n",
       "      <td>120000</td>\n",
       "      <td>2</td>\n",
       "      <td>2</td>\n",
       "      <td>2</td>\n",
       "      <td>26</td>\n",
       "      <td>-1</td>\n",
       "      <td>2</td>\n",
       "      <td>0</td>\n",
       "      <td>0</td>\n",
       "      <td>0</td>\n",
       "      <td>2</td>\n",
       "      <td>2682</td>\n",
       "      <td>1725</td>\n",
       "      <td>2682</td>\n",
       "      <td>3272</td>\n",
       "      <td>3455</td>\n",
       "      <td>3261</td>\n",
       "      <td>0</td>\n",
       "      <td>1000</td>\n",
       "      <td>1000</td>\n",
       "      <td>1000</td>\n",
       "      <td>0</td>\n",
       "      <td>2000</td>\n",
       "      <td>1</td>\n",
       "    </tr>\n",
       "    <tr>\n",
       "      <th>3</th>\n",
       "      <td>90000</td>\n",
       "      <td>2</td>\n",
       "      <td>2</td>\n",
       "      <td>2</td>\n",
       "      <td>34</td>\n",
       "      <td>0</td>\n",
       "      <td>0</td>\n",
       "      <td>0</td>\n",
       "      <td>0</td>\n",
       "      <td>0</td>\n",
       "      <td>0</td>\n",
       "      <td>29239</td>\n",
       "      <td>14027</td>\n",
       "      <td>13559</td>\n",
       "      <td>14331</td>\n",
       "      <td>14948</td>\n",
       "      <td>15549</td>\n",
       "      <td>1518</td>\n",
       "      <td>1500</td>\n",
       "      <td>1000</td>\n",
       "      <td>1000</td>\n",
       "      <td>1000</td>\n",
       "      <td>5000</td>\n",
       "      <td>0</td>\n",
       "    </tr>\n",
       "    <tr>\n",
       "      <th>4</th>\n",
       "      <td>50000</td>\n",
       "      <td>2</td>\n",
       "      <td>2</td>\n",
       "      <td>1</td>\n",
       "      <td>37</td>\n",
       "      <td>0</td>\n",
       "      <td>0</td>\n",
       "      <td>0</td>\n",
       "      <td>0</td>\n",
       "      <td>0</td>\n",
       "      <td>0</td>\n",
       "      <td>46990</td>\n",
       "      <td>48233</td>\n",
       "      <td>49291</td>\n",
       "      <td>28314</td>\n",
       "      <td>28959</td>\n",
       "      <td>29547</td>\n",
       "      <td>2000</td>\n",
       "      <td>2019</td>\n",
       "      <td>1200</td>\n",
       "      <td>1100</td>\n",
       "      <td>1069</td>\n",
       "      <td>1000</td>\n",
       "      <td>0</td>\n",
       "    </tr>\n",
       "    <tr>\n",
       "      <th>5</th>\n",
       "      <td>50000</td>\n",
       "      <td>1</td>\n",
       "      <td>2</td>\n",
       "      <td>1</td>\n",
       "      <td>57</td>\n",
       "      <td>-1</td>\n",
       "      <td>0</td>\n",
       "      <td>-1</td>\n",
       "      <td>0</td>\n",
       "      <td>0</td>\n",
       "      <td>0</td>\n",
       "      <td>8617</td>\n",
       "      <td>5670</td>\n",
       "      <td>35835</td>\n",
       "      <td>20940</td>\n",
       "      <td>19146</td>\n",
       "      <td>19131</td>\n",
       "      <td>2000</td>\n",
       "      <td>36681</td>\n",
       "      <td>10000</td>\n",
       "      <td>9000</td>\n",
       "      <td>689</td>\n",
       "      <td>679</td>\n",
       "      <td>0</td>\n",
       "    </tr>\n",
       "  </tbody>\n",
       "</table>\n",
       "</div>"
      ],
      "text/plain": [
       "    LIMIT_BAL  SEX  EDUCATION  MARRIAGE  AGE  PAY_0  PAY_2  PAY_3  PAY_4  \\\n",
       "ID                                                                         \n",
       "1       20000    2          2         1   24      2      2     -1     -1   \n",
       "2      120000    2          2         2   26     -1      2      0      0   \n",
       "3       90000    2          2         2   34      0      0      0      0   \n",
       "4       50000    2          2         1   37      0      0      0      0   \n",
       "5       50000    1          2         1   57     -1      0     -1      0   \n",
       "\n",
       "    PAY_5  PAY_6  BILL_AMT1  BILL_AMT2  BILL_AMT3  BILL_AMT4  BILL_AMT5  \\\n",
       "ID                                                                        \n",
       "1      -2     -2       3913       3102        689          0          0   \n",
       "2       0      2       2682       1725       2682       3272       3455   \n",
       "3       0      0      29239      14027      13559      14331      14948   \n",
       "4       0      0      46990      48233      49291      28314      28959   \n",
       "5       0      0       8617       5670      35835      20940      19146   \n",
       "\n",
       "    BILL_AMT6  PAY_AMT1  PAY_AMT2  PAY_AMT3  PAY_AMT4  PAY_AMT5  PAY_AMT6  \\\n",
       "ID                                                                          \n",
       "1           0         0       689         0         0         0         0   \n",
       "2        3261         0      1000      1000      1000         0      2000   \n",
       "3       15549      1518      1500      1000      1000      1000      5000   \n",
       "4       29547      2000      2019      1200      1100      1069      1000   \n",
       "5       19131      2000     36681     10000      9000       689       679   \n",
       "\n",
       "    default payment next month  \n",
       "ID                              \n",
       "1                            1  \n",
       "2                            1  \n",
       "3                            0  \n",
       "4                            0  \n",
       "5                            0  "
      ]
     },
     "execution_count": 4,
     "metadata": {},
     "output_type": "execute_result"
    }
   ],
   "source": [
    "df = pd.read_excel(raw_data_file, \n",
    "                   header=1, \n",
    "                   index_col=0)\n",
    "df.head()"
   ]
  },
  {
   "cell_type": "markdown",
   "metadata": {},
   "source": [
    "### Review the data"
   ]
  },
  {
   "cell_type": "code",
   "execution_count": 5,
   "metadata": {},
   "outputs": [
    {
     "data": {
      "text/plain": [
       "False"
      ]
     },
     "execution_count": 5,
     "metadata": {},
     "output_type": "execute_result"
    }
   ],
   "source": [
    "# Check for any null values in the dataset.\n",
    "# If df.isnull().values.any() returns False, then there are no null values.\n",
    "df.isnull().values.any()"
   ]
  },
  {
   "cell_type": "code",
   "execution_count": 6,
   "metadata": {},
   "outputs": [
    {
     "data": {
      "text/plain": [
       "False    29965\n",
       "True        35\n",
       "dtype: int64"
      ]
     },
     "execution_count": 6,
     "metadata": {},
     "output_type": "execute_result"
    }
   ],
   "source": [
    "# Check for any duplicate records in the dataset.\n",
    "\n",
    "df.duplicated().value_counts()"
   ]
  },
  {
   "cell_type": "code",
   "execution_count": 7,
   "metadata": {},
   "outputs": [
    {
     "name": "stdout",
     "output_type": "stream",
     "text": [
      "These potential duplicates account for only 0.116666666667 percent of the data.\n"
     ]
    }
   ],
   "source": [
    "print(\"These potential duplicates account for only\", \n",
    "      df.duplicated().value_counts()[1] / len(df) * 100, \n",
    "      \"percent of the data.\")"
   ]
  },
  {
   "cell_type": "code",
   "execution_count": 8,
   "metadata": {},
   "outputs": [
    {
     "data": {
      "text/html": [
       "<div>\n",
       "<style>\n",
       "    .dataframe thead tr:only-child th {\n",
       "        text-align: right;\n",
       "    }\n",
       "\n",
       "    .dataframe thead th {\n",
       "        text-align: left;\n",
       "    }\n",
       "\n",
       "    .dataframe tbody tr th {\n",
       "        vertical-align: top;\n",
       "    }\n",
       "</style>\n",
       "<table border=\"1\" class=\"dataframe\">\n",
       "  <thead>\n",
       "    <tr style=\"text-align: right;\">\n",
       "      <th></th>\n",
       "      <th>LIMIT_BAL</th>\n",
       "      <th>SEX</th>\n",
       "      <th>EDUCATION</th>\n",
       "      <th>MARRIAGE</th>\n",
       "      <th>AGE</th>\n",
       "      <th>PAY_0</th>\n",
       "      <th>PAY_2</th>\n",
       "      <th>PAY_3</th>\n",
       "      <th>PAY_4</th>\n",
       "      <th>PAY_5</th>\n",
       "      <th>PAY_6</th>\n",
       "      <th>BILL_AMT1</th>\n",
       "      <th>BILL_AMT2</th>\n",
       "      <th>BILL_AMT3</th>\n",
       "      <th>BILL_AMT4</th>\n",
       "      <th>BILL_AMT5</th>\n",
       "      <th>BILL_AMT6</th>\n",
       "      <th>PAY_AMT1</th>\n",
       "      <th>PAY_AMT2</th>\n",
       "      <th>PAY_AMT3</th>\n",
       "      <th>PAY_AMT4</th>\n",
       "      <th>PAY_AMT5</th>\n",
       "      <th>PAY_AMT6</th>\n",
       "      <th>default payment next month</th>\n",
       "    </tr>\n",
       "    <tr>\n",
       "      <th>ID</th>\n",
       "      <th></th>\n",
       "      <th></th>\n",
       "      <th></th>\n",
       "      <th></th>\n",
       "      <th></th>\n",
       "      <th></th>\n",
       "      <th></th>\n",
       "      <th></th>\n",
       "      <th></th>\n",
       "      <th></th>\n",
       "      <th></th>\n",
       "      <th></th>\n",
       "      <th></th>\n",
       "      <th></th>\n",
       "      <th></th>\n",
       "      <th></th>\n",
       "      <th></th>\n",
       "      <th></th>\n",
       "      <th></th>\n",
       "      <th></th>\n",
       "      <th></th>\n",
       "      <th></th>\n",
       "      <th></th>\n",
       "      <th></th>\n",
       "    </tr>\n",
       "  </thead>\n",
       "  <tbody>\n",
       "    <tr>\n",
       "      <th>1981</th>\n",
       "      <td>150000</td>\n",
       "      <td>2</td>\n",
       "      <td>1</td>\n",
       "      <td>1</td>\n",
       "      <td>38</td>\n",
       "      <td>1</td>\n",
       "      <td>-2</td>\n",
       "      <td>-2</td>\n",
       "      <td>-2</td>\n",
       "      <td>-2</td>\n",
       "      <td>-2</td>\n",
       "      <td>0</td>\n",
       "      <td>0</td>\n",
       "      <td>0</td>\n",
       "      <td>0</td>\n",
       "      <td>0</td>\n",
       "      <td>0</td>\n",
       "      <td>0</td>\n",
       "      <td>0</td>\n",
       "      <td>0</td>\n",
       "      <td>0</td>\n",
       "      <td>0</td>\n",
       "      <td>0</td>\n",
       "      <td>1</td>\n",
       "    </tr>\n",
       "    <tr>\n",
       "      <th>4586</th>\n",
       "      <td>150000</td>\n",
       "      <td>2</td>\n",
       "      <td>1</td>\n",
       "      <td>1</td>\n",
       "      <td>31</td>\n",
       "      <td>1</td>\n",
       "      <td>-2</td>\n",
       "      <td>-2</td>\n",
       "      <td>-2</td>\n",
       "      <td>-2</td>\n",
       "      <td>-2</td>\n",
       "      <td>0</td>\n",
       "      <td>0</td>\n",
       "      <td>0</td>\n",
       "      <td>0</td>\n",
       "      <td>0</td>\n",
       "      <td>0</td>\n",
       "      <td>0</td>\n",
       "      <td>0</td>\n",
       "      <td>0</td>\n",
       "      <td>0</td>\n",
       "      <td>0</td>\n",
       "      <td>0</td>\n",
       "      <td>0</td>\n",
       "    </tr>\n",
       "    <tr>\n",
       "      <th>6023</th>\n",
       "      <td>210000</td>\n",
       "      <td>2</td>\n",
       "      <td>1</td>\n",
       "      <td>2</td>\n",
       "      <td>39</td>\n",
       "      <td>1</td>\n",
       "      <td>-2</td>\n",
       "      <td>-2</td>\n",
       "      <td>-2</td>\n",
       "      <td>-2</td>\n",
       "      <td>-2</td>\n",
       "      <td>0</td>\n",
       "      <td>0</td>\n",
       "      <td>0</td>\n",
       "      <td>0</td>\n",
       "      <td>0</td>\n",
       "      <td>0</td>\n",
       "      <td>0</td>\n",
       "      <td>0</td>\n",
       "      <td>0</td>\n",
       "      <td>0</td>\n",
       "      <td>0</td>\n",
       "      <td>0</td>\n",
       "      <td>0</td>\n",
       "    </tr>\n",
       "    <tr>\n",
       "      <th>6467</th>\n",
       "      <td>210000</td>\n",
       "      <td>2</td>\n",
       "      <td>2</td>\n",
       "      <td>1</td>\n",
       "      <td>49</td>\n",
       "      <td>1</td>\n",
       "      <td>-2</td>\n",
       "      <td>-2</td>\n",
       "      <td>-2</td>\n",
       "      <td>-2</td>\n",
       "      <td>-2</td>\n",
       "      <td>0</td>\n",
       "      <td>0</td>\n",
       "      <td>0</td>\n",
       "      <td>0</td>\n",
       "      <td>0</td>\n",
       "      <td>0</td>\n",
       "      <td>0</td>\n",
       "      <td>0</td>\n",
       "      <td>0</td>\n",
       "      <td>0</td>\n",
       "      <td>0</td>\n",
       "      <td>0</td>\n",
       "      <td>0</td>\n",
       "    </tr>\n",
       "    <tr>\n",
       "      <th>7320</th>\n",
       "      <td>500000</td>\n",
       "      <td>1</td>\n",
       "      <td>1</td>\n",
       "      <td>1</td>\n",
       "      <td>43</td>\n",
       "      <td>1</td>\n",
       "      <td>-2</td>\n",
       "      <td>-2</td>\n",
       "      <td>-2</td>\n",
       "      <td>-2</td>\n",
       "      <td>-2</td>\n",
       "      <td>0</td>\n",
       "      <td>0</td>\n",
       "      <td>0</td>\n",
       "      <td>0</td>\n",
       "      <td>0</td>\n",
       "      <td>0</td>\n",
       "      <td>0</td>\n",
       "      <td>0</td>\n",
       "      <td>0</td>\n",
       "      <td>0</td>\n",
       "      <td>0</td>\n",
       "      <td>0</td>\n",
       "      <td>1</td>\n",
       "    </tr>\n",
       "    <tr>\n",
       "      <th>8321</th>\n",
       "      <td>360000</td>\n",
       "      <td>1</td>\n",
       "      <td>2</td>\n",
       "      <td>1</td>\n",
       "      <td>41</td>\n",
       "      <td>1</td>\n",
       "      <td>-2</td>\n",
       "      <td>-2</td>\n",
       "      <td>-2</td>\n",
       "      <td>-2</td>\n",
       "      <td>-2</td>\n",
       "      <td>0</td>\n",
       "      <td>0</td>\n",
       "      <td>0</td>\n",
       "      <td>0</td>\n",
       "      <td>0</td>\n",
       "      <td>0</td>\n",
       "      <td>0</td>\n",
       "      <td>0</td>\n",
       "      <td>0</td>\n",
       "      <td>0</td>\n",
       "      <td>0</td>\n",
       "      <td>0</td>\n",
       "      <td>1</td>\n",
       "    </tr>\n",
       "    <tr>\n",
       "      <th>10251</th>\n",
       "      <td>50000</td>\n",
       "      <td>1</td>\n",
       "      <td>2</td>\n",
       "      <td>2</td>\n",
       "      <td>26</td>\n",
       "      <td>1</td>\n",
       "      <td>-2</td>\n",
       "      <td>-2</td>\n",
       "      <td>-2</td>\n",
       "      <td>-2</td>\n",
       "      <td>-2</td>\n",
       "      <td>0</td>\n",
       "      <td>0</td>\n",
       "      <td>0</td>\n",
       "      <td>0</td>\n",
       "      <td>0</td>\n",
       "      <td>0</td>\n",
       "      <td>0</td>\n",
       "      <td>0</td>\n",
       "      <td>0</td>\n",
       "      <td>0</td>\n",
       "      <td>0</td>\n",
       "      <td>0</td>\n",
       "      <td>0</td>\n",
       "    </tr>\n",
       "    <tr>\n",
       "      <th>13107</th>\n",
       "      <td>360000</td>\n",
       "      <td>2</td>\n",
       "      <td>1</td>\n",
       "      <td>1</td>\n",
       "      <td>49</td>\n",
       "      <td>1</td>\n",
       "      <td>-2</td>\n",
       "      <td>-2</td>\n",
       "      <td>-2</td>\n",
       "      <td>-2</td>\n",
       "      <td>-2</td>\n",
       "      <td>0</td>\n",
       "      <td>0</td>\n",
       "      <td>0</td>\n",
       "      <td>0</td>\n",
       "      <td>0</td>\n",
       "      <td>0</td>\n",
       "      <td>0</td>\n",
       "      <td>0</td>\n",
       "      <td>0</td>\n",
       "      <td>0</td>\n",
       "      <td>0</td>\n",
       "      <td>0</td>\n",
       "      <td>0</td>\n",
       "    </tr>\n",
       "    <tr>\n",
       "      <th>14295</th>\n",
       "      <td>20000</td>\n",
       "      <td>1</td>\n",
       "      <td>2</td>\n",
       "      <td>2</td>\n",
       "      <td>24</td>\n",
       "      <td>2</td>\n",
       "      <td>2</td>\n",
       "      <td>4</td>\n",
       "      <td>4</td>\n",
       "      <td>4</td>\n",
       "      <td>4</td>\n",
       "      <td>1650</td>\n",
       "      <td>1650</td>\n",
       "      <td>1650</td>\n",
       "      <td>1650</td>\n",
       "      <td>1650</td>\n",
       "      <td>1650</td>\n",
       "      <td>0</td>\n",
       "      <td>0</td>\n",
       "      <td>0</td>\n",
       "      <td>0</td>\n",
       "      <td>0</td>\n",
       "      <td>0</td>\n",
       "      <td>1</td>\n",
       "    </tr>\n",
       "    <tr>\n",
       "      <th>15459</th>\n",
       "      <td>160000</td>\n",
       "      <td>1</td>\n",
       "      <td>2</td>\n",
       "      <td>2</td>\n",
       "      <td>28</td>\n",
       "      <td>-2</td>\n",
       "      <td>-2</td>\n",
       "      <td>-2</td>\n",
       "      <td>-2</td>\n",
       "      <td>-2</td>\n",
       "      <td>-2</td>\n",
       "      <td>0</td>\n",
       "      <td>0</td>\n",
       "      <td>0</td>\n",
       "      <td>0</td>\n",
       "      <td>0</td>\n",
       "      <td>0</td>\n",
       "      <td>0</td>\n",
       "      <td>0</td>\n",
       "      <td>0</td>\n",
       "      <td>0</td>\n",
       "      <td>0</td>\n",
       "      <td>0</td>\n",
       "      <td>0</td>\n",
       "    </tr>\n",
       "    <tr>\n",
       "      <th>15618</th>\n",
       "      <td>200000</td>\n",
       "      <td>2</td>\n",
       "      <td>2</td>\n",
       "      <td>2</td>\n",
       "      <td>26</td>\n",
       "      <td>-2</td>\n",
       "      <td>-2</td>\n",
       "      <td>-2</td>\n",
       "      <td>-2</td>\n",
       "      <td>-2</td>\n",
       "      <td>-2</td>\n",
       "      <td>0</td>\n",
       "      <td>0</td>\n",
       "      <td>0</td>\n",
       "      <td>0</td>\n",
       "      <td>0</td>\n",
       "      <td>0</td>\n",
       "      <td>0</td>\n",
       "      <td>0</td>\n",
       "      <td>0</td>\n",
       "      <td>0</td>\n",
       "      <td>0</td>\n",
       "      <td>0</td>\n",
       "      <td>0</td>\n",
       "    </tr>\n",
       "    <tr>\n",
       "      <th>15686</th>\n",
       "      <td>360000</td>\n",
       "      <td>1</td>\n",
       "      <td>1</td>\n",
       "      <td>2</td>\n",
       "      <td>29</td>\n",
       "      <td>1</td>\n",
       "      <td>-2</td>\n",
       "      <td>-2</td>\n",
       "      <td>-2</td>\n",
       "      <td>-2</td>\n",
       "      <td>-2</td>\n",
       "      <td>0</td>\n",
       "      <td>0</td>\n",
       "      <td>0</td>\n",
       "      <td>0</td>\n",
       "      <td>0</td>\n",
       "      <td>0</td>\n",
       "      <td>0</td>\n",
       "      <td>0</td>\n",
       "      <td>0</td>\n",
       "      <td>0</td>\n",
       "      <td>0</td>\n",
       "      <td>0</td>\n",
       "      <td>0</td>\n",
       "    </tr>\n",
       "    <tr>\n",
       "      <th>17033</th>\n",
       "      <td>50000</td>\n",
       "      <td>2</td>\n",
       "      <td>1</td>\n",
       "      <td>2</td>\n",
       "      <td>23</td>\n",
       "      <td>1</td>\n",
       "      <td>-2</td>\n",
       "      <td>-2</td>\n",
       "      <td>-2</td>\n",
       "      <td>-2</td>\n",
       "      <td>-2</td>\n",
       "      <td>0</td>\n",
       "      <td>0</td>\n",
       "      <td>0</td>\n",
       "      <td>0</td>\n",
       "      <td>0</td>\n",
       "      <td>0</td>\n",
       "      <td>0</td>\n",
       "      <td>0</td>\n",
       "      <td>0</td>\n",
       "      <td>0</td>\n",
       "      <td>0</td>\n",
       "      <td>0</td>\n",
       "      <td>0</td>\n",
       "    </tr>\n",
       "    <tr>\n",
       "      <th>19115</th>\n",
       "      <td>80000</td>\n",
       "      <td>2</td>\n",
       "      <td>2</td>\n",
       "      <td>1</td>\n",
       "      <td>31</td>\n",
       "      <td>-2</td>\n",
       "      <td>-2</td>\n",
       "      <td>-2</td>\n",
       "      <td>-2</td>\n",
       "      <td>-2</td>\n",
       "      <td>-2</td>\n",
       "      <td>0</td>\n",
       "      <td>0</td>\n",
       "      <td>0</td>\n",
       "      <td>0</td>\n",
       "      <td>0</td>\n",
       "      <td>0</td>\n",
       "      <td>0</td>\n",
       "      <td>0</td>\n",
       "      <td>0</td>\n",
       "      <td>0</td>\n",
       "      <td>0</td>\n",
       "      <td>0</td>\n",
       "      <td>0</td>\n",
       "    </tr>\n",
       "    <tr>\n",
       "      <th>19488</th>\n",
       "      <td>180000</td>\n",
       "      <td>2</td>\n",
       "      <td>1</td>\n",
       "      <td>2</td>\n",
       "      <td>28</td>\n",
       "      <td>1</td>\n",
       "      <td>-2</td>\n",
       "      <td>-2</td>\n",
       "      <td>-2</td>\n",
       "      <td>-2</td>\n",
       "      <td>-2</td>\n",
       "      <td>0</td>\n",
       "      <td>0</td>\n",
       "      <td>0</td>\n",
       "      <td>0</td>\n",
       "      <td>0</td>\n",
       "      <td>0</td>\n",
       "      <td>0</td>\n",
       "      <td>0</td>\n",
       "      <td>0</td>\n",
       "      <td>0</td>\n",
       "      <td>0</td>\n",
       "      <td>0</td>\n",
       "      <td>0</td>\n",
       "    </tr>\n",
       "    <tr>\n",
       "      <th>19605</th>\n",
       "      <td>110000</td>\n",
       "      <td>2</td>\n",
       "      <td>1</td>\n",
       "      <td>2</td>\n",
       "      <td>31</td>\n",
       "      <td>1</td>\n",
       "      <td>-2</td>\n",
       "      <td>-2</td>\n",
       "      <td>-2</td>\n",
       "      <td>-2</td>\n",
       "      <td>-2</td>\n",
       "      <td>0</td>\n",
       "      <td>0</td>\n",
       "      <td>0</td>\n",
       "      <td>0</td>\n",
       "      <td>0</td>\n",
       "      <td>0</td>\n",
       "      <td>0</td>\n",
       "      <td>0</td>\n",
       "      <td>0</td>\n",
       "      <td>0</td>\n",
       "      <td>0</td>\n",
       "      <td>0</td>\n",
       "      <td>0</td>\n",
       "    </tr>\n",
       "    <tr>\n",
       "      <th>19898</th>\n",
       "      <td>100000</td>\n",
       "      <td>2</td>\n",
       "      <td>2</td>\n",
       "      <td>1</td>\n",
       "      <td>49</td>\n",
       "      <td>1</td>\n",
       "      <td>-2</td>\n",
       "      <td>-2</td>\n",
       "      <td>-2</td>\n",
       "      <td>-2</td>\n",
       "      <td>-2</td>\n",
       "      <td>0</td>\n",
       "      <td>0</td>\n",
       "      <td>0</td>\n",
       "      <td>0</td>\n",
       "      <td>0</td>\n",
       "      <td>0</td>\n",
       "      <td>0</td>\n",
       "      <td>0</td>\n",
       "      <td>0</td>\n",
       "      <td>0</td>\n",
       "      <td>0</td>\n",
       "      <td>0</td>\n",
       "      <td>0</td>\n",
       "    </tr>\n",
       "    <tr>\n",
       "      <th>20876</th>\n",
       "      <td>230000</td>\n",
       "      <td>1</td>\n",
       "      <td>1</td>\n",
       "      <td>1</td>\n",
       "      <td>39</td>\n",
       "      <td>-1</td>\n",
       "      <td>-1</td>\n",
       "      <td>-1</td>\n",
       "      <td>-1</td>\n",
       "      <td>-1</td>\n",
       "      <td>-1</td>\n",
       "      <td>660</td>\n",
       "      <td>660</td>\n",
       "      <td>660</td>\n",
       "      <td>660</td>\n",
       "      <td>660</td>\n",
       "      <td>660</td>\n",
       "      <td>660</td>\n",
       "      <td>660</td>\n",
       "      <td>660</td>\n",
       "      <td>660</td>\n",
       "      <td>660</td>\n",
       "      <td>660</td>\n",
       "      <td>0</td>\n",
       "    </tr>\n",
       "    <tr>\n",
       "      <th>21882</th>\n",
       "      <td>160000</td>\n",
       "      <td>2</td>\n",
       "      <td>3</td>\n",
       "      <td>2</td>\n",
       "      <td>26</td>\n",
       "      <td>-1</td>\n",
       "      <td>-1</td>\n",
       "      <td>-1</td>\n",
       "      <td>-1</td>\n",
       "      <td>-1</td>\n",
       "      <td>-1</td>\n",
       "      <td>390</td>\n",
       "      <td>390</td>\n",
       "      <td>390</td>\n",
       "      <td>390</td>\n",
       "      <td>390</td>\n",
       "      <td>390</td>\n",
       "      <td>390</td>\n",
       "      <td>390</td>\n",
       "      <td>390</td>\n",
       "      <td>390</td>\n",
       "      <td>390</td>\n",
       "      <td>390</td>\n",
       "      <td>0</td>\n",
       "    </tr>\n",
       "    <tr>\n",
       "      <th>22163</th>\n",
       "      <td>360000</td>\n",
       "      <td>2</td>\n",
       "      <td>1</td>\n",
       "      <td>2</td>\n",
       "      <td>29</td>\n",
       "      <td>1</td>\n",
       "      <td>-2</td>\n",
       "      <td>-2</td>\n",
       "      <td>-2</td>\n",
       "      <td>-2</td>\n",
       "      <td>-2</td>\n",
       "      <td>0</td>\n",
       "      <td>0</td>\n",
       "      <td>0</td>\n",
       "      <td>0</td>\n",
       "      <td>0</td>\n",
       "      <td>0</td>\n",
       "      <td>0</td>\n",
       "      <td>0</td>\n",
       "      <td>0</td>\n",
       "      <td>0</td>\n",
       "      <td>0</td>\n",
       "      <td>0</td>\n",
       "      <td>0</td>\n",
       "    </tr>\n",
       "    <tr>\n",
       "      <th>23878</th>\n",
       "      <td>200000</td>\n",
       "      <td>1</td>\n",
       "      <td>1</td>\n",
       "      <td>2</td>\n",
       "      <td>30</td>\n",
       "      <td>-2</td>\n",
       "      <td>-2</td>\n",
       "      <td>-2</td>\n",
       "      <td>-2</td>\n",
       "      <td>-2</td>\n",
       "      <td>-2</td>\n",
       "      <td>0</td>\n",
       "      <td>0</td>\n",
       "      <td>0</td>\n",
       "      <td>0</td>\n",
       "      <td>0</td>\n",
       "      <td>0</td>\n",
       "      <td>0</td>\n",
       "      <td>0</td>\n",
       "      <td>0</td>\n",
       "      <td>0</td>\n",
       "      <td>0</td>\n",
       "      <td>0</td>\n",
       "      <td>0</td>\n",
       "    </tr>\n",
       "    <tr>\n",
       "      <th>24123</th>\n",
       "      <td>140000</td>\n",
       "      <td>1</td>\n",
       "      <td>1</td>\n",
       "      <td>2</td>\n",
       "      <td>29</td>\n",
       "      <td>1</td>\n",
       "      <td>-2</td>\n",
       "      <td>-2</td>\n",
       "      <td>-2</td>\n",
       "      <td>-2</td>\n",
       "      <td>-2</td>\n",
       "      <td>0</td>\n",
       "      <td>0</td>\n",
       "      <td>0</td>\n",
       "      <td>0</td>\n",
       "      <td>0</td>\n",
       "      <td>0</td>\n",
       "      <td>0</td>\n",
       "      <td>0</td>\n",
       "      <td>0</td>\n",
       "      <td>0</td>\n",
       "      <td>0</td>\n",
       "      <td>0</td>\n",
       "      <td>0</td>\n",
       "    </tr>\n",
       "    <tr>\n",
       "      <th>25609</th>\n",
       "      <td>360000</td>\n",
       "      <td>2</td>\n",
       "      <td>1</td>\n",
       "      <td>1</td>\n",
       "      <td>41</td>\n",
       "      <td>-2</td>\n",
       "      <td>-2</td>\n",
       "      <td>-2</td>\n",
       "      <td>-2</td>\n",
       "      <td>-2</td>\n",
       "      <td>-2</td>\n",
       "      <td>0</td>\n",
       "      <td>0</td>\n",
       "      <td>0</td>\n",
       "      <td>0</td>\n",
       "      <td>0</td>\n",
       "      <td>0</td>\n",
       "      <td>0</td>\n",
       "      <td>0</td>\n",
       "      <td>0</td>\n",
       "      <td>0</td>\n",
       "      <td>0</td>\n",
       "      <td>0</td>\n",
       "      <td>1</td>\n",
       "    </tr>\n",
       "    <tr>\n",
       "      <th>26250</th>\n",
       "      <td>90000</td>\n",
       "      <td>2</td>\n",
       "      <td>1</td>\n",
       "      <td>2</td>\n",
       "      <td>31</td>\n",
       "      <td>1</td>\n",
       "      <td>-2</td>\n",
       "      <td>-2</td>\n",
       "      <td>-2</td>\n",
       "      <td>-2</td>\n",
       "      <td>-2</td>\n",
       "      <td>0</td>\n",
       "      <td>0</td>\n",
       "      <td>0</td>\n",
       "      <td>0</td>\n",
       "      <td>0</td>\n",
       "      <td>0</td>\n",
       "      <td>0</td>\n",
       "      <td>0</td>\n",
       "      <td>0</td>\n",
       "      <td>0</td>\n",
       "      <td>0</td>\n",
       "      <td>0</td>\n",
       "      <td>0</td>\n",
       "    </tr>\n",
       "    <tr>\n",
       "      <th>26806</th>\n",
       "      <td>300000</td>\n",
       "      <td>1</td>\n",
       "      <td>1</td>\n",
       "      <td>2</td>\n",
       "      <td>27</td>\n",
       "      <td>-2</td>\n",
       "      <td>-2</td>\n",
       "      <td>-2</td>\n",
       "      <td>-2</td>\n",
       "      <td>-2</td>\n",
       "      <td>-2</td>\n",
       "      <td>0</td>\n",
       "      <td>0</td>\n",
       "      <td>0</td>\n",
       "      <td>0</td>\n",
       "      <td>0</td>\n",
       "      <td>0</td>\n",
       "      <td>0</td>\n",
       "      <td>0</td>\n",
       "      <td>0</td>\n",
       "      <td>0</td>\n",
       "      <td>0</td>\n",
       "      <td>0</td>\n",
       "      <td>0</td>\n",
       "    </tr>\n",
       "    <tr>\n",
       "      <th>27352</th>\n",
       "      <td>210000</td>\n",
       "      <td>1</td>\n",
       "      <td>2</td>\n",
       "      <td>1</td>\n",
       "      <td>39</td>\n",
       "      <td>-1</td>\n",
       "      <td>-1</td>\n",
       "      <td>-1</td>\n",
       "      <td>-1</td>\n",
       "      <td>-1</td>\n",
       "      <td>-1</td>\n",
       "      <td>1443</td>\n",
       "      <td>1443</td>\n",
       "      <td>1443</td>\n",
       "      <td>1443</td>\n",
       "      <td>1443</td>\n",
       "      <td>1443</td>\n",
       "      <td>1443</td>\n",
       "      <td>1443</td>\n",
       "      <td>1443</td>\n",
       "      <td>1443</td>\n",
       "      <td>1443</td>\n",
       "      <td>1443</td>\n",
       "      <td>0</td>\n",
       "    </tr>\n",
       "    <tr>\n",
       "      <th>27766</th>\n",
       "      <td>80000</td>\n",
       "      <td>2</td>\n",
       "      <td>2</td>\n",
       "      <td>2</td>\n",
       "      <td>25</td>\n",
       "      <td>-2</td>\n",
       "      <td>-2</td>\n",
       "      <td>-2</td>\n",
       "      <td>-2</td>\n",
       "      <td>-2</td>\n",
       "      <td>-2</td>\n",
       "      <td>0</td>\n",
       "      <td>0</td>\n",
       "      <td>0</td>\n",
       "      <td>0</td>\n",
       "      <td>0</td>\n",
       "      <td>0</td>\n",
       "      <td>0</td>\n",
       "      <td>0</td>\n",
       "      <td>0</td>\n",
       "      <td>0</td>\n",
       "      <td>0</td>\n",
       "      <td>0</td>\n",
       "      <td>0</td>\n",
       "    </tr>\n",
       "    <tr>\n",
       "      <th>27929</th>\n",
       "      <td>150000</td>\n",
       "      <td>2</td>\n",
       "      <td>1</td>\n",
       "      <td>2</td>\n",
       "      <td>28</td>\n",
       "      <td>1</td>\n",
       "      <td>-2</td>\n",
       "      <td>-2</td>\n",
       "      <td>-2</td>\n",
       "      <td>-2</td>\n",
       "      <td>-2</td>\n",
       "      <td>0</td>\n",
       "      <td>0</td>\n",
       "      <td>0</td>\n",
       "      <td>0</td>\n",
       "      <td>0</td>\n",
       "      <td>0</td>\n",
       "      <td>0</td>\n",
       "      <td>0</td>\n",
       "      <td>0</td>\n",
       "      <td>0</td>\n",
       "      <td>0</td>\n",
       "      <td>0</td>\n",
       "      <td>0</td>\n",
       "    </tr>\n",
       "    <tr>\n",
       "      <th>27967</th>\n",
       "      <td>360000</td>\n",
       "      <td>2</td>\n",
       "      <td>1</td>\n",
       "      <td>2</td>\n",
       "      <td>27</td>\n",
       "      <td>1</td>\n",
       "      <td>-2</td>\n",
       "      <td>-2</td>\n",
       "      <td>-2</td>\n",
       "      <td>-2</td>\n",
       "      <td>-2</td>\n",
       "      <td>0</td>\n",
       "      <td>0</td>\n",
       "      <td>0</td>\n",
       "      <td>0</td>\n",
       "      <td>0</td>\n",
       "      <td>0</td>\n",
       "      <td>0</td>\n",
       "      <td>0</td>\n",
       "      <td>0</td>\n",
       "      <td>0</td>\n",
       "      <td>0</td>\n",
       "      <td>0</td>\n",
       "      <td>0</td>\n",
       "    </tr>\n",
       "    <tr>\n",
       "      <th>28229</th>\n",
       "      <td>200000</td>\n",
       "      <td>2</td>\n",
       "      <td>1</td>\n",
       "      <td>1</td>\n",
       "      <td>34</td>\n",
       "      <td>1</td>\n",
       "      <td>-2</td>\n",
       "      <td>-2</td>\n",
       "      <td>-2</td>\n",
       "      <td>-2</td>\n",
       "      <td>-2</td>\n",
       "      <td>0</td>\n",
       "      <td>0</td>\n",
       "      <td>0</td>\n",
       "      <td>0</td>\n",
       "      <td>0</td>\n",
       "      <td>0</td>\n",
       "      <td>0</td>\n",
       "      <td>0</td>\n",
       "      <td>0</td>\n",
       "      <td>0</td>\n",
       "      <td>0</td>\n",
       "      <td>0</td>\n",
       "      <td>0</td>\n",
       "    </tr>\n",
       "    <tr>\n",
       "      <th>28780</th>\n",
       "      <td>200000</td>\n",
       "      <td>2</td>\n",
       "      <td>1</td>\n",
       "      <td>1</td>\n",
       "      <td>36</td>\n",
       "      <td>1</td>\n",
       "      <td>-2</td>\n",
       "      <td>-2</td>\n",
       "      <td>-2</td>\n",
       "      <td>-2</td>\n",
       "      <td>-2</td>\n",
       "      <td>0</td>\n",
       "      <td>0</td>\n",
       "      <td>0</td>\n",
       "      <td>0</td>\n",
       "      <td>0</td>\n",
       "      <td>0</td>\n",
       "      <td>0</td>\n",
       "      <td>0</td>\n",
       "      <td>0</td>\n",
       "      <td>0</td>\n",
       "      <td>0</td>\n",
       "      <td>0</td>\n",
       "      <td>0</td>\n",
       "    </tr>\n",
       "    <tr>\n",
       "      <th>28984</th>\n",
       "      <td>80000</td>\n",
       "      <td>2</td>\n",
       "      <td>3</td>\n",
       "      <td>1</td>\n",
       "      <td>42</td>\n",
       "      <td>-2</td>\n",
       "      <td>-2</td>\n",
       "      <td>-2</td>\n",
       "      <td>-2</td>\n",
       "      <td>-2</td>\n",
       "      <td>-2</td>\n",
       "      <td>0</td>\n",
       "      <td>0</td>\n",
       "      <td>0</td>\n",
       "      <td>0</td>\n",
       "      <td>0</td>\n",
       "      <td>0</td>\n",
       "      <td>0</td>\n",
       "      <td>0</td>\n",
       "      <td>0</td>\n",
       "      <td>0</td>\n",
       "      <td>0</td>\n",
       "      <td>0</td>\n",
       "      <td>0</td>\n",
       "    </tr>\n",
       "    <tr>\n",
       "      <th>29266</th>\n",
       "      <td>180000</td>\n",
       "      <td>1</td>\n",
       "      <td>2</td>\n",
       "      <td>1</td>\n",
       "      <td>26</td>\n",
       "      <td>-1</td>\n",
       "      <td>-1</td>\n",
       "      <td>-1</td>\n",
       "      <td>-1</td>\n",
       "      <td>-1</td>\n",
       "      <td>-1</td>\n",
       "      <td>396</td>\n",
       "      <td>396</td>\n",
       "      <td>396</td>\n",
       "      <td>396</td>\n",
       "      <td>396</td>\n",
       "      <td>396</td>\n",
       "      <td>396</td>\n",
       "      <td>396</td>\n",
       "      <td>396</td>\n",
       "      <td>396</td>\n",
       "      <td>396</td>\n",
       "      <td>396</td>\n",
       "      <td>0</td>\n",
       "    </tr>\n",
       "    <tr>\n",
       "      <th>29824</th>\n",
       "      <td>220000</td>\n",
       "      <td>1</td>\n",
       "      <td>1</td>\n",
       "      <td>1</td>\n",
       "      <td>42</td>\n",
       "      <td>1</td>\n",
       "      <td>-2</td>\n",
       "      <td>-2</td>\n",
       "      <td>-2</td>\n",
       "      <td>-2</td>\n",
       "      <td>-2</td>\n",
       "      <td>0</td>\n",
       "      <td>0</td>\n",
       "      <td>0</td>\n",
       "      <td>0</td>\n",
       "      <td>0</td>\n",
       "      <td>0</td>\n",
       "      <td>0</td>\n",
       "      <td>0</td>\n",
       "      <td>0</td>\n",
       "      <td>0</td>\n",
       "      <td>0</td>\n",
       "      <td>0</td>\n",
       "      <td>1</td>\n",
       "    </tr>\n",
       "    <tr>\n",
       "      <th>29910</th>\n",
       "      <td>360000</td>\n",
       "      <td>1</td>\n",
       "      <td>1</td>\n",
       "      <td>2</td>\n",
       "      <td>32</td>\n",
       "      <td>-2</td>\n",
       "      <td>-2</td>\n",
       "      <td>-2</td>\n",
       "      <td>-2</td>\n",
       "      <td>-2</td>\n",
       "      <td>-2</td>\n",
       "      <td>0</td>\n",
       "      <td>0</td>\n",
       "      <td>0</td>\n",
       "      <td>0</td>\n",
       "      <td>0</td>\n",
       "      <td>0</td>\n",
       "      <td>0</td>\n",
       "      <td>0</td>\n",
       "      <td>0</td>\n",
       "      <td>0</td>\n",
       "      <td>0</td>\n",
       "      <td>0</td>\n",
       "      <td>0</td>\n",
       "    </tr>\n",
       "  </tbody>\n",
       "</table>\n",
       "</div>"
      ],
      "text/plain": [
       "       LIMIT_BAL  SEX  EDUCATION  MARRIAGE  AGE  PAY_0  PAY_2  PAY_3  PAY_4  \\\n",
       "ID                                                                            \n",
       "1981      150000    2          1         1   38      1     -2     -2     -2   \n",
       "4586      150000    2          1         1   31      1     -2     -2     -2   \n",
       "6023      210000    2          1         2   39      1     -2     -2     -2   \n",
       "6467      210000    2          2         1   49      1     -2     -2     -2   \n",
       "7320      500000    1          1         1   43      1     -2     -2     -2   \n",
       "8321      360000    1          2         1   41      1     -2     -2     -2   \n",
       "10251      50000    1          2         2   26      1     -2     -2     -2   \n",
       "13107     360000    2          1         1   49      1     -2     -2     -2   \n",
       "14295      20000    1          2         2   24      2      2      4      4   \n",
       "15459     160000    1          2         2   28     -2     -2     -2     -2   \n",
       "15618     200000    2          2         2   26     -2     -2     -2     -2   \n",
       "15686     360000    1          1         2   29      1     -2     -2     -2   \n",
       "17033      50000    2          1         2   23      1     -2     -2     -2   \n",
       "19115      80000    2          2         1   31     -2     -2     -2     -2   \n",
       "19488     180000    2          1         2   28      1     -2     -2     -2   \n",
       "19605     110000    2          1         2   31      1     -2     -2     -2   \n",
       "19898     100000    2          2         1   49      1     -2     -2     -2   \n",
       "20876     230000    1          1         1   39     -1     -1     -1     -1   \n",
       "21882     160000    2          3         2   26     -1     -1     -1     -1   \n",
       "22163     360000    2          1         2   29      1     -2     -2     -2   \n",
       "23878     200000    1          1         2   30     -2     -2     -2     -2   \n",
       "24123     140000    1          1         2   29      1     -2     -2     -2   \n",
       "25609     360000    2          1         1   41     -2     -2     -2     -2   \n",
       "26250      90000    2          1         2   31      1     -2     -2     -2   \n",
       "26806     300000    1          1         2   27     -2     -2     -2     -2   \n",
       "27352     210000    1          2         1   39     -1     -1     -1     -1   \n",
       "27766      80000    2          2         2   25     -2     -2     -2     -2   \n",
       "27929     150000    2          1         2   28      1     -2     -2     -2   \n",
       "27967     360000    2          1         2   27      1     -2     -2     -2   \n",
       "28229     200000    2          1         1   34      1     -2     -2     -2   \n",
       "28780     200000    2          1         1   36      1     -2     -2     -2   \n",
       "28984      80000    2          3         1   42     -2     -2     -2     -2   \n",
       "29266     180000    1          2         1   26     -1     -1     -1     -1   \n",
       "29824     220000    1          1         1   42      1     -2     -2     -2   \n",
       "29910     360000    1          1         2   32     -2     -2     -2     -2   \n",
       "\n",
       "       PAY_5  PAY_6  BILL_AMT1  BILL_AMT2  BILL_AMT3  BILL_AMT4  BILL_AMT5  \\\n",
       "ID                                                                           \n",
       "1981      -2     -2          0          0          0          0          0   \n",
       "4586      -2     -2          0          0          0          0          0   \n",
       "6023      -2     -2          0          0          0          0          0   \n",
       "6467      -2     -2          0          0          0          0          0   \n",
       "7320      -2     -2          0          0          0          0          0   \n",
       "8321      -2     -2          0          0          0          0          0   \n",
       "10251     -2     -2          0          0          0          0          0   \n",
       "13107     -2     -2          0          0          0          0          0   \n",
       "14295      4      4       1650       1650       1650       1650       1650   \n",
       "15459     -2     -2          0          0          0          0          0   \n",
       "15618     -2     -2          0          0          0          0          0   \n",
       "15686     -2     -2          0          0          0          0          0   \n",
       "17033     -2     -2          0          0          0          0          0   \n",
       "19115     -2     -2          0          0          0          0          0   \n",
       "19488     -2     -2          0          0          0          0          0   \n",
       "19605     -2     -2          0          0          0          0          0   \n",
       "19898     -2     -2          0          0          0          0          0   \n",
       "20876     -1     -1        660        660        660        660        660   \n",
       "21882     -1     -1        390        390        390        390        390   \n",
       "22163     -2     -2          0          0          0          0          0   \n",
       "23878     -2     -2          0          0          0          0          0   \n",
       "24123     -2     -2          0          0          0          0          0   \n",
       "25609     -2     -2          0          0          0          0          0   \n",
       "26250     -2     -2          0          0          0          0          0   \n",
       "26806     -2     -2          0          0          0          0          0   \n",
       "27352     -1     -1       1443       1443       1443       1443       1443   \n",
       "27766     -2     -2          0          0          0          0          0   \n",
       "27929     -2     -2          0          0          0          0          0   \n",
       "27967     -2     -2          0          0          0          0          0   \n",
       "28229     -2     -2          0          0          0          0          0   \n",
       "28780     -2     -2          0          0          0          0          0   \n",
       "28984     -2     -2          0          0          0          0          0   \n",
       "29266     -1     -1        396        396        396        396        396   \n",
       "29824     -2     -2          0          0          0          0          0   \n",
       "29910     -2     -2          0          0          0          0          0   \n",
       "\n",
       "       BILL_AMT6  PAY_AMT1  PAY_AMT2  PAY_AMT3  PAY_AMT4  PAY_AMT5  PAY_AMT6  \\\n",
       "ID                                                                             \n",
       "1981           0         0         0         0         0         0         0   \n",
       "4586           0         0         0         0         0         0         0   \n",
       "6023           0         0         0         0         0         0         0   \n",
       "6467           0         0         0         0         0         0         0   \n",
       "7320           0         0         0         0         0         0         0   \n",
       "8321           0         0         0         0         0         0         0   \n",
       "10251          0         0         0         0         0         0         0   \n",
       "13107          0         0         0         0         0         0         0   \n",
       "14295       1650         0         0         0         0         0         0   \n",
       "15459          0         0         0         0         0         0         0   \n",
       "15618          0         0         0         0         0         0         0   \n",
       "15686          0         0         0         0         0         0         0   \n",
       "17033          0         0         0         0         0         0         0   \n",
       "19115          0         0         0         0         0         0         0   \n",
       "19488          0         0         0         0         0         0         0   \n",
       "19605          0         0         0         0         0         0         0   \n",
       "19898          0         0         0         0         0         0         0   \n",
       "20876        660       660       660       660       660       660       660   \n",
       "21882        390       390       390       390       390       390       390   \n",
       "22163          0         0         0         0         0         0         0   \n",
       "23878          0         0         0         0         0         0         0   \n",
       "24123          0         0         0         0         0         0         0   \n",
       "25609          0         0         0         0         0         0         0   \n",
       "26250          0         0         0         0         0         0         0   \n",
       "26806          0         0         0         0         0         0         0   \n",
       "27352       1443      1443      1443      1443      1443      1443      1443   \n",
       "27766          0         0         0         0         0         0         0   \n",
       "27929          0         0         0         0         0         0         0   \n",
       "27967          0         0         0         0         0         0         0   \n",
       "28229          0         0         0         0         0         0         0   \n",
       "28780          0         0         0         0         0         0         0   \n",
       "28984          0         0         0         0         0         0         0   \n",
       "29266        396       396       396       396       396       396       396   \n",
       "29824          0         0         0         0         0         0         0   \n",
       "29910          0         0         0         0         0         0         0   \n",
       "\n",
       "       default payment next month  \n",
       "ID                                 \n",
       "1981                            1  \n",
       "4586                            0  \n",
       "6023                            0  \n",
       "6467                            0  \n",
       "7320                            1  \n",
       "8321                            1  \n",
       "10251                           0  \n",
       "13107                           0  \n",
       "14295                           1  \n",
       "15459                           0  \n",
       "15618                           0  \n",
       "15686                           0  \n",
       "17033                           0  \n",
       "19115                           0  \n",
       "19488                           0  \n",
       "19605                           0  \n",
       "19898                           0  \n",
       "20876                           0  \n",
       "21882                           0  \n",
       "22163                           0  \n",
       "23878                           0  \n",
       "24123                           0  \n",
       "25609                           1  \n",
       "26250                           0  \n",
       "26806                           0  \n",
       "27352                           0  \n",
       "27766                           0  \n",
       "27929                           0  \n",
       "27967                           0  \n",
       "28229                           0  \n",
       "28780                           0  \n",
       "28984                           0  \n",
       "29266                           0  \n",
       "29824                           1  \n",
       "29910                           0  "
      ]
     },
     "execution_count": 8,
     "metadata": {},
     "output_type": "execute_result"
    }
   ],
   "source": [
    "df[df.duplicated()]"
   ]
  },
  {
   "cell_type": "markdown",
   "metadata": {},
   "source": [
    "There were 35 rows that were possible duplicates.  Most of these possibly duplicated rows have 0 bill amount and 0 pay amount for all six months.  It is entirely possible that individuals of the same age, gender, marital status, etc. did not use their credit cards at all over these six months.  This would result in identical row values for individual observations that were in fact independent.  In light of this, we opted not to drop these 35 possibly duplicated rows."
   ]
  },
  {
   "cell_type": "code",
   "execution_count": 9,
   "metadata": {},
   "outputs": [
    {
     "name": "stdout",
     "output_type": "stream",
     "text": [
      "LIMIT_BAL\n",
      "SEX\n",
      "EDUCATION\n",
      "MARRIAGE\n",
      "AGE\n",
      "PAY_0\n",
      "PAY_2\n",
      "PAY_3\n",
      "PAY_4\n",
      "PAY_5\n",
      "PAY_6\n",
      "BILL_AMT1\n",
      "BILL_AMT2\n",
      "BILL_AMT3\n",
      "BILL_AMT4\n",
      "BILL_AMT5\n",
      "BILL_AMT6\n",
      "PAY_AMT1\n",
      "PAY_AMT2\n",
      "PAY_AMT3\n",
      "PAY_AMT4\n",
      "PAY_AMT5\n",
      "PAY_AMT6\n",
      "default payment next month\n"
     ]
    }
   ],
   "source": [
    "# Check the column names to identify the dependent and independent variables.\n",
    "for column_name in df.columns:\n",
    "    print(column_name)"
   ]
  },
  {
   "cell_type": "markdown",
   "metadata": {},
   "source": [
    "# Create functiond to inspect variables"
   ]
  },
  {
   "cell_type": "code",
   "execution_count": 24,
   "metadata": {
    "collapsed": true
   },
   "outputs": [],
   "source": [
    "def inspect_discrete_var(input_series=None, \n",
    "                         accepted_values_list=None):\n",
    "    \n",
    "    \"\"\" Docstring: inspect discrete variable\n",
    "    \n",
    "    The argument of the function \"input_series\" should be a \n",
    "    pandas Series object.\n",
    "    \n",
    "    The function returns a pandas Styler object \"output_styler\".\n",
    "    \n",
    "    Rows for values not in accepted_values_list will be colored red.\n",
    "    \n",
    "    \"output_styler\" can be turned in to a Dataframe Object by calling\n",
    "    the .data method (output_styler.data or \n",
    "    inspect_discrete_var_2(arg).data).\n",
    "    \"\"\"\n",
    "    \n",
    "    try:\n",
    "        temp = input_series.value_counts()\n",
    "        temp.sort_index(ascending=True, inplace=True)\n",
    "        temp.sort_index()\n",
    "        temp.index.name = temp.name\n",
    "        temp.rename('value_counts', inplace=True)\n",
    "        n = len(input_series)\n",
    "        temp_percent = temp / n\n",
    "        temp_percent.rename('percentage', inplace=True)\n",
    "        temp_percent\n",
    "        temp_df = temp.to_frame().join(temp_percent.to_frame())\n",
    "        \n",
    "        temp_styler =  temp_df.style.format({'value_counts': '{:,}', 'percentage': '{:,.1%}'})\n",
    "\n",
    "        styles = []\n",
    "        \n",
    "        try:\n",
    "\n",
    "            for row, item in enumerate(temp_styler.index, start=0): \n",
    "                if item not in accepted_values_list:\n",
    "                    styles.append({'selector': '.row'+str(row),\n",
    "                                   'props': [('background-color', 'red'), \n",
    "                                             ('color', 'white'),\n",
    "                                             ('font-weight', 'bold')]})\n",
    "        except:\n",
    "            pass                    \n",
    "                    \n",
    "        #return my_styles\n",
    "        \n",
    "        return temp_styler.set_table_styles(styles)\n",
    "    except:\n",
    "        # Return exception\n",
    "        return None"
   ]
  },
  {
   "cell_type": "code",
   "execution_count": 25,
   "metadata": {
    "collapsed": true
   },
   "outputs": [],
   "source": [
    "def inspect_continuous_var(input_series=None):\n",
    "    \n",
    "    \"\"\" Docstring: inspect continuous variable\n",
    "    \n",
    "    The argument of the function \"input_series\" should be \n",
    "    a pandas Series object.\n",
    "    \n",
    "    The function returns summary plots and summary statistics.\n",
    "            \n",
    "    \"\"\"\n",
    "\n",
    "    # Display boxplot and histogram/kde.\n",
    "    f, (ax1, ax2) = plt.subplots(2, 1, sharex=True, figsize=(10, 5) )\n",
    "    sns.boxplot(x=input_series, ax=ax1)\n",
    "    sns.distplot(input_series, ax=ax2)\n",
    "    font = {'weight' : 'bold',\n",
    "            'size'   : 16}\n",
    "    ax1.set_title(input_series.name, fontdict=font)\n",
    "    plt.show()\n",
    "\n",
    "    # Print summary statistics.\n",
    "    print('Min: \\t\\t\\t {:,.0f}'.format(input_series.min()))\n",
    "    print('Lower Quartile: \\t {:,.0f}'.format(input_series.quantile([.25]).iloc[0]))\n",
    "    print('median: \\t\\t {:,.0f}'.format(input_series.median()))\n",
    "    print('mean: \\t\\t\\t {:,.0f}'.format(input_series.mean()))\n",
    "    print('Upper Quartile: \\t {:,.0f}'.format(input_series.quantile([.75]).iloc[0]))                                    \n",
    "    print('max: \\t\\t\\t {:,.0f}'.format(input_series.max()))\n",
    "    print('\\n')\n",
    "    print('Skew: \\t\\t\\t {:,.2f}'.format(input_series.skew()))\n",
    "    print('Kurtosis: \\t\\t {:,.2f}'.format(input_series.kurtosis()))\n",
    "\n",
    "    return None"
   ]
  },
  {
   "cell_type": "code",
   "execution_count": 9,
   "metadata": {
    "collapsed": true
   },
   "outputs": [],
   "source": [
    "def trim(x, trim_max=None, trim_min=None):\n",
    "    \"\"\" Docstring: Trim outliers below trim_min or above trim_max.\n",
    "    \"\"\"\n",
    "    if ((trim_max != None) & (trim_min != None)):\n",
    "        if x > trim_max:\n",
    "             return trim_max\n",
    "        else:\n",
    "            if x < trim_min:\n",
    "                return trim_min\n",
    "            else:\n",
    "                return x\n",
    "            \n",
    "    elif (trim_max != None): \n",
    "        if x > trim_max:\n",
    "             return trim_max\n",
    "        else:\n",
    "            return x\n",
    "\n",
    "    elif (trim_min != None): \n",
    "        if x < trim_min:\n",
    "             return trim_min\n",
    "        else:\n",
    "            return x\n",
    "        \n",
    "    else:\n",
    "        return x"
   ]
  },
  {
   "cell_type": "markdown",
   "metadata": {},
   "source": [
    "## Tasks:\n",
    "Analyze (and wrangle) the  discrete variables first.\n",
    "\n",
    "Then analyse (and wrangle) continuous variables.\n",
    "\n",
    "\n",
    "### discrete variables: \n",
    "\n",
    "1. 'default payment next month';\n",
    "2. 'SEX';\n",
    "3. 'EDUCATION';\n",
    "4. 'MARRIAGE';\n",
    "5. 'PAY_0';\n",
    "6. 'PAY_2';\n",
    "7. 'PAY_3';\n",
    "8. 'PAY_4';\n",
    "9. 'PAY_5'; and \n",
    "10. 'PAY_6'.\n",
    "\n",
    "### Continuous variables: \n",
    "\n",
    "1. 'LIMIT_BAL';\n",
    "2. 'AGE';\n",
    "3. 'BILL_AMT1';\n",
    "4. 'BILL_AMT2';\n",
    "5. 'BILL_AMT3';\n",
    "6. 'BILL_AMT4';\n",
    "7. 'BILL_AMT5';\n",
    "8. 'BILL_AMT6';\n",
    "9. 'PAY_AMT1';\n",
    "10. 'PAY_AMT2';\n",
    "11. 'PAY_AMT3';\n",
    "12. 'PAY_AMT4';\n",
    "13. 'PAY_AMT5'; and\n",
    "14. 'PAY_AMT6'."
   ]
  },
  {
   "cell_type": "markdown",
   "metadata": {},
   "source": [
    "### discrete variables: "
   ]
  },
  {
   "cell_type": "code",
   "execution_count": 10,
   "metadata": {},
   "outputs": [
    {
     "data": {
      "text/html": [
       "<style  type=\"text/css\" >\n",
       "</style>  \n",
       "<table id=\"T_f944e490_b2c9_11e7_a784_10ddb1b28204\" > \n",
       "<thead>    <tr> \n",
       "        <th class=\"blank level0\" ></th> \n",
       "        <th class=\"col_heading level0 col0\" >value_counts</th> \n",
       "        <th class=\"col_heading level0 col1\" >percentage</th> \n",
       "    </tr>    <tr> \n",
       "        <th class=\"index_name level0\" >default payment next month</th> \n",
       "        <th class=\"blank\" ></th> \n",
       "        <th class=\"blank\" ></th> \n",
       "    </tr></thead> \n",
       "<tbody>    <tr> \n",
       "        <th id=\"T_f944e490_b2c9_11e7_a784_10ddb1b28204level0_row0\" class=\"row_heading level0 row0\" >0</th> \n",
       "        <td id=\"T_f944e490_b2c9_11e7_a784_10ddb1b28204row0_col0\" class=\"data row0 col0\" >23,364</td> \n",
       "        <td id=\"T_f944e490_b2c9_11e7_a784_10ddb1b28204row0_col1\" class=\"data row0 col1\" >77.9%</td> \n",
       "    </tr>    <tr> \n",
       "        <th id=\"T_f944e490_b2c9_11e7_a784_10ddb1b28204level0_row1\" class=\"row_heading level0 row1\" >1</th> \n",
       "        <td id=\"T_f944e490_b2c9_11e7_a784_10ddb1b28204row1_col0\" class=\"data row1 col0\" >6,636</td> \n",
       "        <td id=\"T_f944e490_b2c9_11e7_a784_10ddb1b28204row1_col1\" class=\"data row1 col1\" >22.1%</td> \n",
       "    </tr></tbody> \n",
       "</table> "
      ],
      "text/plain": [
       "<pandas.io.formats.style.Styler at 0x10ca40630>"
      ]
     },
     "execution_count": 10,
     "metadata": {},
     "output_type": "execute_result"
    }
   ],
   "source": [
    "# 1. 'default payment next month';\n",
    "\n",
    "# 'default payment next month' is the dependent variable.\n",
    "# It is a binary variable, that should take only two values (Yes = 1, No = 0).\n",
    "\n",
    "df['default payment next month'].head()\n",
    "input_series = df['default payment next month']\n",
    "accepted_values_list = [0, 1]\n",
    "inspect_discrete_var(input_series, accepted_values_list)"
   ]
  },
  {
   "cell_type": "code",
   "execution_count": 11,
   "metadata": {
    "collapsed": true
   },
   "outputs": [],
   "source": [
    "# The dependent variable ('default payment next month') is imbalanced.\n",
    "\n",
    "# 77.9% of the observations do not default in the next month \n",
    "#    ('default payment next month' = 0).\n",
    "\n",
    "# 22.1% of the observations do default in the next month \n",
    "#    ('default payment next month' = 1).\n",
    "\n",
    "# The data set may need to be rebalanced / resampled."
   ]
  },
  {
   "cell_type": "code",
   "execution_count": 12,
   "metadata": {},
   "outputs": [
    {
     "data": {
      "text/html": [
       "<style  type=\"text/css\" >\n",
       "</style>  \n",
       "<table id=\"T_f94f4142_b2c9_11e7_aa87_10ddb1b28204\" > \n",
       "<thead>    <tr> \n",
       "        <th class=\"blank level0\" ></th> \n",
       "        <th class=\"col_heading level0 col0\" >value_counts</th> \n",
       "        <th class=\"col_heading level0 col1\" >percentage</th> \n",
       "    </tr>    <tr> \n",
       "        <th class=\"index_name level0\" >SEX</th> \n",
       "        <th class=\"blank\" ></th> \n",
       "        <th class=\"blank\" ></th> \n",
       "    </tr></thead> \n",
       "<tbody>    <tr> \n",
       "        <th id=\"T_f94f4142_b2c9_11e7_aa87_10ddb1b28204level0_row0\" class=\"row_heading level0 row0\" >1</th> \n",
       "        <td id=\"T_f94f4142_b2c9_11e7_aa87_10ddb1b28204row0_col0\" class=\"data row0 col0\" >11,888</td> \n",
       "        <td id=\"T_f94f4142_b2c9_11e7_aa87_10ddb1b28204row0_col1\" class=\"data row0 col1\" >39.6%</td> \n",
       "    </tr>    <tr> \n",
       "        <th id=\"T_f94f4142_b2c9_11e7_aa87_10ddb1b28204level0_row1\" class=\"row_heading level0 row1\" >2</th> \n",
       "        <td id=\"T_f94f4142_b2c9_11e7_aa87_10ddb1b28204row1_col0\" class=\"data row1 col0\" >18,112</td> \n",
       "        <td id=\"T_f94f4142_b2c9_11e7_aa87_10ddb1b28204row1_col1\" class=\"data row1 col1\" >60.4%</td> \n",
       "    </tr></tbody> \n",
       "</table> "
      ],
      "text/plain": [
       "<pandas.io.formats.style.Styler at 0x10ca4c5c0>"
      ]
     },
     "execution_count": 12,
     "metadata": {},
     "output_type": "execute_result"
    }
   ],
   "source": [
    "# 2. 'SEX';\n",
    "\n",
    "# X2: Gender (1 = male; 2 = female).\n",
    "# DISCRETE\n",
    "\n",
    "input_series = df['SEX']\n",
    "accepted_values_list = [1, 2]\n",
    "inspect_discrete_var(input_series, accepted_values_list)"
   ]
  },
  {
   "cell_type": "code",
   "execution_count": 13,
   "metadata": {
    "collapsed": true
   },
   "outputs": [],
   "source": [
    "# No data wrangling is needed for 'SEX'."
   ]
  },
  {
   "cell_type": "code",
   "execution_count": 14,
   "metadata": {},
   "outputs": [
    {
     "data": {
      "text/html": [
       "<style  type=\"text/css\" >\n",
       "    #T_f953233e_b2c9_11e7_be85_10ddb1b28204 .row0 {\n",
       "          background-color: red;\n",
       "          color: white;\n",
       "          font-weight: bold;\n",
       "    }    #T_f953233e_b2c9_11e7_be85_10ddb1b28204 .row5 {\n",
       "          background-color: red;\n",
       "          color: white;\n",
       "          font-weight: bold;\n",
       "    }    #T_f953233e_b2c9_11e7_be85_10ddb1b28204 .row6 {\n",
       "          background-color: red;\n",
       "          color: white;\n",
       "          font-weight: bold;\n",
       "    }</style>  \n",
       "<table id=\"T_f953233e_b2c9_11e7_be85_10ddb1b28204\" > \n",
       "<thead>    <tr> \n",
       "        <th class=\"blank level0\" ></th> \n",
       "        <th class=\"col_heading level0 col0\" >value_counts</th> \n",
       "        <th class=\"col_heading level0 col1\" >percentage</th> \n",
       "    </tr>    <tr> \n",
       "        <th class=\"index_name level0\" >EDUCATION</th> \n",
       "        <th class=\"blank\" ></th> \n",
       "        <th class=\"blank\" ></th> \n",
       "    </tr></thead> \n",
       "<tbody>    <tr> \n",
       "        <th id=\"T_f953233e_b2c9_11e7_be85_10ddb1b28204level0_row0\" class=\"row_heading level0 row0\" >0</th> \n",
       "        <td id=\"T_f953233e_b2c9_11e7_be85_10ddb1b28204row0_col0\" class=\"data row0 col0\" >14</td> \n",
       "        <td id=\"T_f953233e_b2c9_11e7_be85_10ddb1b28204row0_col1\" class=\"data row0 col1\" >0.0%</td> \n",
       "    </tr>    <tr> \n",
       "        <th id=\"T_f953233e_b2c9_11e7_be85_10ddb1b28204level0_row1\" class=\"row_heading level0 row1\" >1</th> \n",
       "        <td id=\"T_f953233e_b2c9_11e7_be85_10ddb1b28204row1_col0\" class=\"data row1 col0\" >10,585</td> \n",
       "        <td id=\"T_f953233e_b2c9_11e7_be85_10ddb1b28204row1_col1\" class=\"data row1 col1\" >35.3%</td> \n",
       "    </tr>    <tr> \n",
       "        <th id=\"T_f953233e_b2c9_11e7_be85_10ddb1b28204level0_row2\" class=\"row_heading level0 row2\" >2</th> \n",
       "        <td id=\"T_f953233e_b2c9_11e7_be85_10ddb1b28204row2_col0\" class=\"data row2 col0\" >14,030</td> \n",
       "        <td id=\"T_f953233e_b2c9_11e7_be85_10ddb1b28204row2_col1\" class=\"data row2 col1\" >46.8%</td> \n",
       "    </tr>    <tr> \n",
       "        <th id=\"T_f953233e_b2c9_11e7_be85_10ddb1b28204level0_row3\" class=\"row_heading level0 row3\" >3</th> \n",
       "        <td id=\"T_f953233e_b2c9_11e7_be85_10ddb1b28204row3_col0\" class=\"data row3 col0\" >4,917</td> \n",
       "        <td id=\"T_f953233e_b2c9_11e7_be85_10ddb1b28204row3_col1\" class=\"data row3 col1\" >16.4%</td> \n",
       "    </tr>    <tr> \n",
       "        <th id=\"T_f953233e_b2c9_11e7_be85_10ddb1b28204level0_row4\" class=\"row_heading level0 row4\" >4</th> \n",
       "        <td id=\"T_f953233e_b2c9_11e7_be85_10ddb1b28204row4_col0\" class=\"data row4 col0\" >123</td> \n",
       "        <td id=\"T_f953233e_b2c9_11e7_be85_10ddb1b28204row4_col1\" class=\"data row4 col1\" >0.4%</td> \n",
       "    </tr>    <tr> \n",
       "        <th id=\"T_f953233e_b2c9_11e7_be85_10ddb1b28204level0_row5\" class=\"row_heading level0 row5\" >5</th> \n",
       "        <td id=\"T_f953233e_b2c9_11e7_be85_10ddb1b28204row5_col0\" class=\"data row5 col0\" >280</td> \n",
       "        <td id=\"T_f953233e_b2c9_11e7_be85_10ddb1b28204row5_col1\" class=\"data row5 col1\" >0.9%</td> \n",
       "    </tr>    <tr> \n",
       "        <th id=\"T_f953233e_b2c9_11e7_be85_10ddb1b28204level0_row6\" class=\"row_heading level0 row6\" >6</th> \n",
       "        <td id=\"T_f953233e_b2c9_11e7_be85_10ddb1b28204row6_col0\" class=\"data row6 col0\" >51</td> \n",
       "        <td id=\"T_f953233e_b2c9_11e7_be85_10ddb1b28204row6_col1\" class=\"data row6 col1\" >0.2%</td> \n",
       "    </tr></tbody> \n",
       "</table> "
      ],
      "text/plain": [
       "<pandas.io.formats.style.Styler at 0x115783be0>"
      ]
     },
     "execution_count": 14,
     "metadata": {},
     "output_type": "execute_result"
    }
   ],
   "source": [
    "# 3. 'EDUCATION';\n",
    "\n",
    "# X3: Education (1 = graduate school; 2 = university; 3 = high school; 4 = others).\n",
    "# DISCRETE\n",
    "\n",
    "input_series = df['EDUCATION']\n",
    "accepted_values_list = [1, 2, 3, 4]\n",
    "inspect_discrete_var(input_series, accepted_values_list)"
   ]
  },
  {
   "cell_type": "markdown",
   "metadata": {},
   "source": [
    "Per https://www.kaggle.com/uciml/default-of-credit-card-clients-dataset/discussion/34608 \n",
    "\n",
    "The professor who created the data set said the following:\n",
    "\n",
    "\"X3: Education (1 = graduate school; 2 = university; 3 = high school; 0, 4, 5, 6 = others).\"\n",
    "\n",
    "Therefore, we will reassign 'EDUCATION' values not in [1, 2, 3, 4] to 4."
   ]
  },
  {
   "cell_type": "code",
   "execution_count": 15,
   "metadata": {},
   "outputs": [
    {
     "data": {
      "text/html": [
       "<style  type=\"text/css\" >\n",
       "</style>  \n",
       "<table id=\"T_f9631e42_b2c9_11e7_b1f1_10ddb1b28204\" > \n",
       "<thead>    <tr> \n",
       "        <th class=\"blank level0\" ></th> \n",
       "        <th class=\"col_heading level0 col0\" >value_counts</th> \n",
       "        <th class=\"col_heading level0 col1\" >percentage</th> \n",
       "    </tr>    <tr> \n",
       "        <th class=\"index_name level0\" >EDUCATION</th> \n",
       "        <th class=\"blank\" ></th> \n",
       "        <th class=\"blank\" ></th> \n",
       "    </tr></thead> \n",
       "<tbody>    <tr> \n",
       "        <th id=\"T_f9631e42_b2c9_11e7_b1f1_10ddb1b28204level0_row0\" class=\"row_heading level0 row0\" >1</th> \n",
       "        <td id=\"T_f9631e42_b2c9_11e7_b1f1_10ddb1b28204row0_col0\" class=\"data row0 col0\" >10,585</td> \n",
       "        <td id=\"T_f9631e42_b2c9_11e7_b1f1_10ddb1b28204row0_col1\" class=\"data row0 col1\" >35.3%</td> \n",
       "    </tr>    <tr> \n",
       "        <th id=\"T_f9631e42_b2c9_11e7_b1f1_10ddb1b28204level0_row1\" class=\"row_heading level0 row1\" >2</th> \n",
       "        <td id=\"T_f9631e42_b2c9_11e7_b1f1_10ddb1b28204row1_col0\" class=\"data row1 col0\" >14,030</td> \n",
       "        <td id=\"T_f9631e42_b2c9_11e7_b1f1_10ddb1b28204row1_col1\" class=\"data row1 col1\" >46.8%</td> \n",
       "    </tr>    <tr> \n",
       "        <th id=\"T_f9631e42_b2c9_11e7_b1f1_10ddb1b28204level0_row2\" class=\"row_heading level0 row2\" >3</th> \n",
       "        <td id=\"T_f9631e42_b2c9_11e7_b1f1_10ddb1b28204row2_col0\" class=\"data row2 col0\" >4,917</td> \n",
       "        <td id=\"T_f9631e42_b2c9_11e7_b1f1_10ddb1b28204row2_col1\" class=\"data row2 col1\" >16.4%</td> \n",
       "    </tr>    <tr> \n",
       "        <th id=\"T_f9631e42_b2c9_11e7_b1f1_10ddb1b28204level0_row3\" class=\"row_heading level0 row3\" >4</th> \n",
       "        <td id=\"T_f9631e42_b2c9_11e7_b1f1_10ddb1b28204row3_col0\" class=\"data row3 col0\" >468</td> \n",
       "        <td id=\"T_f9631e42_b2c9_11e7_b1f1_10ddb1b28204row3_col1\" class=\"data row3 col1\" >1.6%</td> \n",
       "    </tr></tbody> \n",
       "</table> "
      ],
      "text/plain": [
       "<pandas.io.formats.style.Styler at 0x10ca483c8>"
      ]
     },
     "execution_count": 15,
     "metadata": {},
     "output_type": "execute_result"
    }
   ],
   "source": [
    "# Reassign 'EDUCATION' values not in [1, 2, 3, 4] to 4.\n",
    "\n",
    "df_edited = df.copy()\n",
    "\n",
    "accepted_values_list = [1, 2, 3, 4]\n",
    "\n",
    "def reassign_EDUCATION(x):\n",
    "    \n",
    "    accepted_values_list = [1, 2, 3, 4]\n",
    "\n",
    "    if x in accepted_values_list:\n",
    "        output = x\n",
    "    else:\n",
    "        output = 4\n",
    "        \n",
    "    return output\n",
    "        \n",
    "df_edited = df.copy()\n",
    "\n",
    "df_edited['EDUCATION'] = df_edited.EDUCATION.apply(reassign_EDUCATION)\n",
    "\n",
    "input_series = df_edited['EDUCATION']\n",
    "accepted_values_list = [1, 2, 3, 4]\n",
    "inspect_discrete_var(input_series, accepted_values_list)"
   ]
  },
  {
   "cell_type": "code",
   "execution_count": 16,
   "metadata": {
    "collapsed": true
   },
   "outputs": [],
   "source": [
    "# 'EDUCATION' data has been wrangled."
   ]
  },
  {
   "cell_type": "code",
   "execution_count": 17,
   "metadata": {},
   "outputs": [
    {
     "data": {
      "text/html": [
       "<style  type=\"text/css\" >\n",
       "</style>  \n",
       "<table id=\"T_f966ed4c_b2c9_11e7_a512_10ddb1b28204\" > \n",
       "<thead>    <tr> \n",
       "        <th class=\"blank level0\" ></th> \n",
       "        <th class=\"col_heading level0 col0\" >value_counts</th> \n",
       "        <th class=\"col_heading level0 col1\" >percentage</th> \n",
       "    </tr>    <tr> \n",
       "        <th class=\"index_name level0\" >MARRIAGE</th> \n",
       "        <th class=\"blank\" ></th> \n",
       "        <th class=\"blank\" ></th> \n",
       "    </tr></thead> \n",
       "<tbody>    <tr> \n",
       "        <th id=\"T_f966ed4c_b2c9_11e7_a512_10ddb1b28204level0_row0\" class=\"row_heading level0 row0\" >0</th> \n",
       "        <td id=\"T_f966ed4c_b2c9_11e7_a512_10ddb1b28204row0_col0\" class=\"data row0 col0\" >54</td> \n",
       "        <td id=\"T_f966ed4c_b2c9_11e7_a512_10ddb1b28204row0_col1\" class=\"data row0 col1\" >0.2%</td> \n",
       "    </tr>    <tr> \n",
       "        <th id=\"T_f966ed4c_b2c9_11e7_a512_10ddb1b28204level0_row1\" class=\"row_heading level0 row1\" >1</th> \n",
       "        <td id=\"T_f966ed4c_b2c9_11e7_a512_10ddb1b28204row1_col0\" class=\"data row1 col0\" >13,659</td> \n",
       "        <td id=\"T_f966ed4c_b2c9_11e7_a512_10ddb1b28204row1_col1\" class=\"data row1 col1\" >45.5%</td> \n",
       "    </tr>    <tr> \n",
       "        <th id=\"T_f966ed4c_b2c9_11e7_a512_10ddb1b28204level0_row2\" class=\"row_heading level0 row2\" >2</th> \n",
       "        <td id=\"T_f966ed4c_b2c9_11e7_a512_10ddb1b28204row2_col0\" class=\"data row2 col0\" >15,964</td> \n",
       "        <td id=\"T_f966ed4c_b2c9_11e7_a512_10ddb1b28204row2_col1\" class=\"data row2 col1\" >53.2%</td> \n",
       "    </tr>    <tr> \n",
       "        <th id=\"T_f966ed4c_b2c9_11e7_a512_10ddb1b28204level0_row3\" class=\"row_heading level0 row3\" >3</th> \n",
       "        <td id=\"T_f966ed4c_b2c9_11e7_a512_10ddb1b28204row3_col0\" class=\"data row3 col0\" >323</td> \n",
       "        <td id=\"T_f966ed4c_b2c9_11e7_a512_10ddb1b28204row3_col1\" class=\"data row3 col1\" >1.1%</td> \n",
       "    </tr></tbody> \n",
       "</table> "
      ],
      "text/plain": [
       "<pandas.io.formats.style.Styler at 0x10ca48eb8>"
      ]
     },
     "execution_count": 17,
     "metadata": {},
     "output_type": "execute_result"
    }
   ],
   "source": [
    "# 4. 'MARRIAGE';\n",
    "\n",
    "#Per https://www.kaggle.com/uciml/default-of-credit-card-clients-dataset/discussion/34608 \n",
    "\n",
    "# The professor who created the data set said the following:\n",
    "\n",
    "#\"X4: Marital status (1 = married; 2 = single; 3 = divorce; 0=others).\"\n",
    "\n",
    "# DISCRETE\n",
    "\n",
    "input_series = df['MARRIAGE']\n",
    "accepted_values_list = [0, 1, 2, 3]\n",
    "inspect_discrete_var(input_series, accepted_values_list)"
   ]
  },
  {
   "cell_type": "code",
   "execution_count": 18,
   "metadata": {
    "collapsed": true
   },
   "outputs": [],
   "source": [
    "# No data wrangling is needed for 'MARRIAGE'."
   ]
  },
  {
   "cell_type": "markdown",
   "metadata": {},
   "source": [
    "'PAY_0', 'PAY_2', 'PAY_3', 'PAY_4', 'PAY_5', and 'PAY_6' are described as follows:\n",
    "\n",
    "5. 'PAY_0';\n",
    "6. 'PAY_2';\n",
    "7. 'PAY_3';\n",
    "8. 'PAY_4';\n",
    "9. 'PAY_5'; and \n",
    "10. 'PAY_6'\n",
    "\n",
    "X6 - X11: History of past payment. We tracked the past monthly payment records (from April to September, 2005) as follows: X6 = the repayment status in September, 2005; X7 = the repayment status in August, 2005; . . .;X11 = the repayment status in April, 2005. The measurement scale for the repayment status is:\n",
    "\n",
    "+ -2: No consumption; \n",
    "+ -1: Paid in full; \n",
    "+ 0: The use of revolving credit; \n",
    "+ 1 = payment delay for one month; \n",
    "+ 2 = payment delay for two months;\n",
    "+ . . .; \n",
    "+ 8 = payment delay for eight months; \n",
    "+ 9 = payment delay for nine months and above.\n",
    "\n",
    "[https://www.kaggle.com/uciml/default-of-credit-card-clients-dataset/discussion/34608]"
   ]
  },
  {
   "cell_type": "code",
   "execution_count": 19,
   "metadata": {},
   "outputs": [
    {
     "data": {
      "text/plain": [
       "[-2, -1, 0, 1, 2, 3, 4, 5, 6, 7, 8, 9]"
      ]
     },
     "execution_count": 19,
     "metadata": {},
     "output_type": "execute_result"
    }
   ],
   "source": [
    "# For 'PAY_0', 'PAY_2', 'PAY_3', 'PAY_4', 'PAY_5', and 'PAY_6',\n",
    "# accepted values are [-2, -1, 0, 1, 2, 3, 4, 5, 6, 7, 8, 9]\n",
    "\n",
    "accepted_values_list = list(range(-2, 10))\n",
    "accepted_values_list"
   ]
  },
  {
   "cell_type": "code",
   "execution_count": 20,
   "metadata": {},
   "outputs": [
    {
     "data": {
      "text/html": [
       "<style  type=\"text/css\" >\n",
       "</style>  \n",
       "<table id=\"T_f96c7246_b2c9_11e7_9d3a_10ddb1b28204\" > \n",
       "<thead>    <tr> \n",
       "        <th class=\"blank level0\" ></th> \n",
       "        <th class=\"col_heading level0 col0\" >value_counts</th> \n",
       "        <th class=\"col_heading level0 col1\" >percentage</th> \n",
       "    </tr>    <tr> \n",
       "        <th class=\"index_name level0\" >PAY_0</th> \n",
       "        <th class=\"blank\" ></th> \n",
       "        <th class=\"blank\" ></th> \n",
       "    </tr></thead> \n",
       "<tbody>    <tr> \n",
       "        <th id=\"T_f96c7246_b2c9_11e7_9d3a_10ddb1b28204level0_row0\" class=\"row_heading level0 row0\" >-2</th> \n",
       "        <td id=\"T_f96c7246_b2c9_11e7_9d3a_10ddb1b28204row0_col0\" class=\"data row0 col0\" >2,759</td> \n",
       "        <td id=\"T_f96c7246_b2c9_11e7_9d3a_10ddb1b28204row0_col1\" class=\"data row0 col1\" >9.2%</td> \n",
       "    </tr>    <tr> \n",
       "        <th id=\"T_f96c7246_b2c9_11e7_9d3a_10ddb1b28204level0_row1\" class=\"row_heading level0 row1\" >-1</th> \n",
       "        <td id=\"T_f96c7246_b2c9_11e7_9d3a_10ddb1b28204row1_col0\" class=\"data row1 col0\" >5,686</td> \n",
       "        <td id=\"T_f96c7246_b2c9_11e7_9d3a_10ddb1b28204row1_col1\" class=\"data row1 col1\" >19.0%</td> \n",
       "    </tr>    <tr> \n",
       "        <th id=\"T_f96c7246_b2c9_11e7_9d3a_10ddb1b28204level0_row2\" class=\"row_heading level0 row2\" >0</th> \n",
       "        <td id=\"T_f96c7246_b2c9_11e7_9d3a_10ddb1b28204row2_col0\" class=\"data row2 col0\" >14,737</td> \n",
       "        <td id=\"T_f96c7246_b2c9_11e7_9d3a_10ddb1b28204row2_col1\" class=\"data row2 col1\" >49.1%</td> \n",
       "    </tr>    <tr> \n",
       "        <th id=\"T_f96c7246_b2c9_11e7_9d3a_10ddb1b28204level0_row3\" class=\"row_heading level0 row3\" >1</th> \n",
       "        <td id=\"T_f96c7246_b2c9_11e7_9d3a_10ddb1b28204row3_col0\" class=\"data row3 col0\" >3,688</td> \n",
       "        <td id=\"T_f96c7246_b2c9_11e7_9d3a_10ddb1b28204row3_col1\" class=\"data row3 col1\" >12.3%</td> \n",
       "    </tr>    <tr> \n",
       "        <th id=\"T_f96c7246_b2c9_11e7_9d3a_10ddb1b28204level0_row4\" class=\"row_heading level0 row4\" >2</th> \n",
       "        <td id=\"T_f96c7246_b2c9_11e7_9d3a_10ddb1b28204row4_col0\" class=\"data row4 col0\" >2,667</td> \n",
       "        <td id=\"T_f96c7246_b2c9_11e7_9d3a_10ddb1b28204row4_col1\" class=\"data row4 col1\" >8.9%</td> \n",
       "    </tr>    <tr> \n",
       "        <th id=\"T_f96c7246_b2c9_11e7_9d3a_10ddb1b28204level0_row5\" class=\"row_heading level0 row5\" >3</th> \n",
       "        <td id=\"T_f96c7246_b2c9_11e7_9d3a_10ddb1b28204row5_col0\" class=\"data row5 col0\" >322</td> \n",
       "        <td id=\"T_f96c7246_b2c9_11e7_9d3a_10ddb1b28204row5_col1\" class=\"data row5 col1\" >1.1%</td> \n",
       "    </tr>    <tr> \n",
       "        <th id=\"T_f96c7246_b2c9_11e7_9d3a_10ddb1b28204level0_row6\" class=\"row_heading level0 row6\" >4</th> \n",
       "        <td id=\"T_f96c7246_b2c9_11e7_9d3a_10ddb1b28204row6_col0\" class=\"data row6 col0\" >76</td> \n",
       "        <td id=\"T_f96c7246_b2c9_11e7_9d3a_10ddb1b28204row6_col1\" class=\"data row6 col1\" >0.3%</td> \n",
       "    </tr>    <tr> \n",
       "        <th id=\"T_f96c7246_b2c9_11e7_9d3a_10ddb1b28204level0_row7\" class=\"row_heading level0 row7\" >5</th> \n",
       "        <td id=\"T_f96c7246_b2c9_11e7_9d3a_10ddb1b28204row7_col0\" class=\"data row7 col0\" >26</td> \n",
       "        <td id=\"T_f96c7246_b2c9_11e7_9d3a_10ddb1b28204row7_col1\" class=\"data row7 col1\" >0.1%</td> \n",
       "    </tr>    <tr> \n",
       "        <th id=\"T_f96c7246_b2c9_11e7_9d3a_10ddb1b28204level0_row8\" class=\"row_heading level0 row8\" >6</th> \n",
       "        <td id=\"T_f96c7246_b2c9_11e7_9d3a_10ddb1b28204row8_col0\" class=\"data row8 col0\" >11</td> \n",
       "        <td id=\"T_f96c7246_b2c9_11e7_9d3a_10ddb1b28204row8_col1\" class=\"data row8 col1\" >0.0%</td> \n",
       "    </tr>    <tr> \n",
       "        <th id=\"T_f96c7246_b2c9_11e7_9d3a_10ddb1b28204level0_row9\" class=\"row_heading level0 row9\" >7</th> \n",
       "        <td id=\"T_f96c7246_b2c9_11e7_9d3a_10ddb1b28204row9_col0\" class=\"data row9 col0\" >9</td> \n",
       "        <td id=\"T_f96c7246_b2c9_11e7_9d3a_10ddb1b28204row9_col1\" class=\"data row9 col1\" >0.0%</td> \n",
       "    </tr>    <tr> \n",
       "        <th id=\"T_f96c7246_b2c9_11e7_9d3a_10ddb1b28204level0_row10\" class=\"row_heading level0 row10\" >8</th> \n",
       "        <td id=\"T_f96c7246_b2c9_11e7_9d3a_10ddb1b28204row10_col0\" class=\"data row10 col0\" >19</td> \n",
       "        <td id=\"T_f96c7246_b2c9_11e7_9d3a_10ddb1b28204row10_col1\" class=\"data row10 col1\" >0.1%</td> \n",
       "    </tr></tbody> \n",
       "</table> "
      ],
      "text/plain": [
       "<pandas.io.formats.style.Styler at 0x1157836d8>"
      ]
     },
     "execution_count": 20,
     "metadata": {},
     "output_type": "execute_result"
    }
   ],
   "source": [
    "# 5. 'PAY_0';\n",
    "\n",
    "# DISCRETE\n",
    "\n",
    "input_series = df['PAY_0']\n",
    "accepted_values_list = list(range(-2, 10))\n",
    "inspect_discrete_var(input_series, accepted_values_list)"
   ]
  },
  {
   "cell_type": "code",
   "execution_count": 21,
   "metadata": {
    "collapsed": true
   },
   "outputs": [],
   "source": [
    "# No data wrangling is needed for 'PAY_0'."
   ]
  },
  {
   "cell_type": "code",
   "execution_count": 22,
   "metadata": {},
   "outputs": [
    {
     "data": {
      "text/html": [
       "<style  type=\"text/css\" >\n",
       "</style>  \n",
       "<table id=\"T_f970f102_b2c9_11e7_8aa0_10ddb1b28204\" > \n",
       "<thead>    <tr> \n",
       "        <th class=\"blank level0\" ></th> \n",
       "        <th class=\"col_heading level0 col0\" >value_counts</th> \n",
       "        <th class=\"col_heading level0 col1\" >percentage</th> \n",
       "    </tr>    <tr> \n",
       "        <th class=\"index_name level0\" >PAY_2</th> \n",
       "        <th class=\"blank\" ></th> \n",
       "        <th class=\"blank\" ></th> \n",
       "    </tr></thead> \n",
       "<tbody>    <tr> \n",
       "        <th id=\"T_f970f102_b2c9_11e7_8aa0_10ddb1b28204level0_row0\" class=\"row_heading level0 row0\" >-2</th> \n",
       "        <td id=\"T_f970f102_b2c9_11e7_8aa0_10ddb1b28204row0_col0\" class=\"data row0 col0\" >3,782</td> \n",
       "        <td id=\"T_f970f102_b2c9_11e7_8aa0_10ddb1b28204row0_col1\" class=\"data row0 col1\" >12.6%</td> \n",
       "    </tr>    <tr> \n",
       "        <th id=\"T_f970f102_b2c9_11e7_8aa0_10ddb1b28204level0_row1\" class=\"row_heading level0 row1\" >-1</th> \n",
       "        <td id=\"T_f970f102_b2c9_11e7_8aa0_10ddb1b28204row1_col0\" class=\"data row1 col0\" >6,050</td> \n",
       "        <td id=\"T_f970f102_b2c9_11e7_8aa0_10ddb1b28204row1_col1\" class=\"data row1 col1\" >20.2%</td> \n",
       "    </tr>    <tr> \n",
       "        <th id=\"T_f970f102_b2c9_11e7_8aa0_10ddb1b28204level0_row2\" class=\"row_heading level0 row2\" >0</th> \n",
       "        <td id=\"T_f970f102_b2c9_11e7_8aa0_10ddb1b28204row2_col0\" class=\"data row2 col0\" >15,730</td> \n",
       "        <td id=\"T_f970f102_b2c9_11e7_8aa0_10ddb1b28204row2_col1\" class=\"data row2 col1\" >52.4%</td> \n",
       "    </tr>    <tr> \n",
       "        <th id=\"T_f970f102_b2c9_11e7_8aa0_10ddb1b28204level0_row3\" class=\"row_heading level0 row3\" >1</th> \n",
       "        <td id=\"T_f970f102_b2c9_11e7_8aa0_10ddb1b28204row3_col0\" class=\"data row3 col0\" >28</td> \n",
       "        <td id=\"T_f970f102_b2c9_11e7_8aa0_10ddb1b28204row3_col1\" class=\"data row3 col1\" >0.1%</td> \n",
       "    </tr>    <tr> \n",
       "        <th id=\"T_f970f102_b2c9_11e7_8aa0_10ddb1b28204level0_row4\" class=\"row_heading level0 row4\" >2</th> \n",
       "        <td id=\"T_f970f102_b2c9_11e7_8aa0_10ddb1b28204row4_col0\" class=\"data row4 col0\" >3,927</td> \n",
       "        <td id=\"T_f970f102_b2c9_11e7_8aa0_10ddb1b28204row4_col1\" class=\"data row4 col1\" >13.1%</td> \n",
       "    </tr>    <tr> \n",
       "        <th id=\"T_f970f102_b2c9_11e7_8aa0_10ddb1b28204level0_row5\" class=\"row_heading level0 row5\" >3</th> \n",
       "        <td id=\"T_f970f102_b2c9_11e7_8aa0_10ddb1b28204row5_col0\" class=\"data row5 col0\" >326</td> \n",
       "        <td id=\"T_f970f102_b2c9_11e7_8aa0_10ddb1b28204row5_col1\" class=\"data row5 col1\" >1.1%</td> \n",
       "    </tr>    <tr> \n",
       "        <th id=\"T_f970f102_b2c9_11e7_8aa0_10ddb1b28204level0_row6\" class=\"row_heading level0 row6\" >4</th> \n",
       "        <td id=\"T_f970f102_b2c9_11e7_8aa0_10ddb1b28204row6_col0\" class=\"data row6 col0\" >99</td> \n",
       "        <td id=\"T_f970f102_b2c9_11e7_8aa0_10ddb1b28204row6_col1\" class=\"data row6 col1\" >0.3%</td> \n",
       "    </tr>    <tr> \n",
       "        <th id=\"T_f970f102_b2c9_11e7_8aa0_10ddb1b28204level0_row7\" class=\"row_heading level0 row7\" >5</th> \n",
       "        <td id=\"T_f970f102_b2c9_11e7_8aa0_10ddb1b28204row7_col0\" class=\"data row7 col0\" >25</td> \n",
       "        <td id=\"T_f970f102_b2c9_11e7_8aa0_10ddb1b28204row7_col1\" class=\"data row7 col1\" >0.1%</td> \n",
       "    </tr>    <tr> \n",
       "        <th id=\"T_f970f102_b2c9_11e7_8aa0_10ddb1b28204level0_row8\" class=\"row_heading level0 row8\" >6</th> \n",
       "        <td id=\"T_f970f102_b2c9_11e7_8aa0_10ddb1b28204row8_col0\" class=\"data row8 col0\" >12</td> \n",
       "        <td id=\"T_f970f102_b2c9_11e7_8aa0_10ddb1b28204row8_col1\" class=\"data row8 col1\" >0.0%</td> \n",
       "    </tr>    <tr> \n",
       "        <th id=\"T_f970f102_b2c9_11e7_8aa0_10ddb1b28204level0_row9\" class=\"row_heading level0 row9\" >7</th> \n",
       "        <td id=\"T_f970f102_b2c9_11e7_8aa0_10ddb1b28204row9_col0\" class=\"data row9 col0\" >20</td> \n",
       "        <td id=\"T_f970f102_b2c9_11e7_8aa0_10ddb1b28204row9_col1\" class=\"data row9 col1\" >0.1%</td> \n",
       "    </tr>    <tr> \n",
       "        <th id=\"T_f970f102_b2c9_11e7_8aa0_10ddb1b28204level0_row10\" class=\"row_heading level0 row10\" >8</th> \n",
       "        <td id=\"T_f970f102_b2c9_11e7_8aa0_10ddb1b28204row10_col0\" class=\"data row10 col0\" >1</td> \n",
       "        <td id=\"T_f970f102_b2c9_11e7_8aa0_10ddb1b28204row10_col1\" class=\"data row10 col1\" >0.0%</td> \n",
       "    </tr></tbody> \n",
       "</table> "
      ],
      "text/plain": [
       "<pandas.io.formats.style.Styler at 0x10ca407b8>"
      ]
     },
     "execution_count": 22,
     "metadata": {},
     "output_type": "execute_result"
    }
   ],
   "source": [
    "# 6. 'PAY_2';\n",
    "\n",
    "# DISCRETE\n",
    "\n",
    "input_series = df['PAY_2']\n",
    "accepted_values_list = list(range(-2, 10))\n",
    "inspect_discrete_var(input_series, accepted_values_list)"
   ]
  },
  {
   "cell_type": "code",
   "execution_count": 23,
   "metadata": {
    "collapsed": true
   },
   "outputs": [],
   "source": [
    "# No data wrangling is needed for 'PAY_2'."
   ]
  },
  {
   "cell_type": "code",
   "execution_count": 24,
   "metadata": {},
   "outputs": [
    {
     "data": {
      "text/html": [
       "<style  type=\"text/css\" >\n",
       "</style>  \n",
       "<table id=\"T_f975b1c6_b2c9_11e7_9d83_10ddb1b28204\" > \n",
       "<thead>    <tr> \n",
       "        <th class=\"blank level0\" ></th> \n",
       "        <th class=\"col_heading level0 col0\" >value_counts</th> \n",
       "        <th class=\"col_heading level0 col1\" >percentage</th> \n",
       "    </tr>    <tr> \n",
       "        <th class=\"index_name level0\" >PAY_3</th> \n",
       "        <th class=\"blank\" ></th> \n",
       "        <th class=\"blank\" ></th> \n",
       "    </tr></thead> \n",
       "<tbody>    <tr> \n",
       "        <th id=\"T_f975b1c6_b2c9_11e7_9d83_10ddb1b28204level0_row0\" class=\"row_heading level0 row0\" >-2</th> \n",
       "        <td id=\"T_f975b1c6_b2c9_11e7_9d83_10ddb1b28204row0_col0\" class=\"data row0 col0\" >4,085</td> \n",
       "        <td id=\"T_f975b1c6_b2c9_11e7_9d83_10ddb1b28204row0_col1\" class=\"data row0 col1\" >13.6%</td> \n",
       "    </tr>    <tr> \n",
       "        <th id=\"T_f975b1c6_b2c9_11e7_9d83_10ddb1b28204level0_row1\" class=\"row_heading level0 row1\" >-1</th> \n",
       "        <td id=\"T_f975b1c6_b2c9_11e7_9d83_10ddb1b28204row1_col0\" class=\"data row1 col0\" >5,938</td> \n",
       "        <td id=\"T_f975b1c6_b2c9_11e7_9d83_10ddb1b28204row1_col1\" class=\"data row1 col1\" >19.8%</td> \n",
       "    </tr>    <tr> \n",
       "        <th id=\"T_f975b1c6_b2c9_11e7_9d83_10ddb1b28204level0_row2\" class=\"row_heading level0 row2\" >0</th> \n",
       "        <td id=\"T_f975b1c6_b2c9_11e7_9d83_10ddb1b28204row2_col0\" class=\"data row2 col0\" >15,764</td> \n",
       "        <td id=\"T_f975b1c6_b2c9_11e7_9d83_10ddb1b28204row2_col1\" class=\"data row2 col1\" >52.5%</td> \n",
       "    </tr>    <tr> \n",
       "        <th id=\"T_f975b1c6_b2c9_11e7_9d83_10ddb1b28204level0_row3\" class=\"row_heading level0 row3\" >1</th> \n",
       "        <td id=\"T_f975b1c6_b2c9_11e7_9d83_10ddb1b28204row3_col0\" class=\"data row3 col0\" >4</td> \n",
       "        <td id=\"T_f975b1c6_b2c9_11e7_9d83_10ddb1b28204row3_col1\" class=\"data row3 col1\" >0.0%</td> \n",
       "    </tr>    <tr> \n",
       "        <th id=\"T_f975b1c6_b2c9_11e7_9d83_10ddb1b28204level0_row4\" class=\"row_heading level0 row4\" >2</th> \n",
       "        <td id=\"T_f975b1c6_b2c9_11e7_9d83_10ddb1b28204row4_col0\" class=\"data row4 col0\" >3,819</td> \n",
       "        <td id=\"T_f975b1c6_b2c9_11e7_9d83_10ddb1b28204row4_col1\" class=\"data row4 col1\" >12.7%</td> \n",
       "    </tr>    <tr> \n",
       "        <th id=\"T_f975b1c6_b2c9_11e7_9d83_10ddb1b28204level0_row5\" class=\"row_heading level0 row5\" >3</th> \n",
       "        <td id=\"T_f975b1c6_b2c9_11e7_9d83_10ddb1b28204row5_col0\" class=\"data row5 col0\" >240</td> \n",
       "        <td id=\"T_f975b1c6_b2c9_11e7_9d83_10ddb1b28204row5_col1\" class=\"data row5 col1\" >0.8%</td> \n",
       "    </tr>    <tr> \n",
       "        <th id=\"T_f975b1c6_b2c9_11e7_9d83_10ddb1b28204level0_row6\" class=\"row_heading level0 row6\" >4</th> \n",
       "        <td id=\"T_f975b1c6_b2c9_11e7_9d83_10ddb1b28204row6_col0\" class=\"data row6 col0\" >76</td> \n",
       "        <td id=\"T_f975b1c6_b2c9_11e7_9d83_10ddb1b28204row6_col1\" class=\"data row6 col1\" >0.3%</td> \n",
       "    </tr>    <tr> \n",
       "        <th id=\"T_f975b1c6_b2c9_11e7_9d83_10ddb1b28204level0_row7\" class=\"row_heading level0 row7\" >5</th> \n",
       "        <td id=\"T_f975b1c6_b2c9_11e7_9d83_10ddb1b28204row7_col0\" class=\"data row7 col0\" >21</td> \n",
       "        <td id=\"T_f975b1c6_b2c9_11e7_9d83_10ddb1b28204row7_col1\" class=\"data row7 col1\" >0.1%</td> \n",
       "    </tr>    <tr> \n",
       "        <th id=\"T_f975b1c6_b2c9_11e7_9d83_10ddb1b28204level0_row8\" class=\"row_heading level0 row8\" >6</th> \n",
       "        <td id=\"T_f975b1c6_b2c9_11e7_9d83_10ddb1b28204row8_col0\" class=\"data row8 col0\" >23</td> \n",
       "        <td id=\"T_f975b1c6_b2c9_11e7_9d83_10ddb1b28204row8_col1\" class=\"data row8 col1\" >0.1%</td> \n",
       "    </tr>    <tr> \n",
       "        <th id=\"T_f975b1c6_b2c9_11e7_9d83_10ddb1b28204level0_row9\" class=\"row_heading level0 row9\" >7</th> \n",
       "        <td id=\"T_f975b1c6_b2c9_11e7_9d83_10ddb1b28204row9_col0\" class=\"data row9 col0\" >27</td> \n",
       "        <td id=\"T_f975b1c6_b2c9_11e7_9d83_10ddb1b28204row9_col1\" class=\"data row9 col1\" >0.1%</td> \n",
       "    </tr>    <tr> \n",
       "        <th id=\"T_f975b1c6_b2c9_11e7_9d83_10ddb1b28204level0_row10\" class=\"row_heading level0 row10\" >8</th> \n",
       "        <td id=\"T_f975b1c6_b2c9_11e7_9d83_10ddb1b28204row10_col0\" class=\"data row10 col0\" >3</td> \n",
       "        <td id=\"T_f975b1c6_b2c9_11e7_9d83_10ddb1b28204row10_col1\" class=\"data row10 col1\" >0.0%</td> \n",
       "    </tr></tbody> \n",
       "</table> "
      ],
      "text/plain": [
       "<pandas.io.formats.style.Styler at 0x10ca40c88>"
      ]
     },
     "execution_count": 24,
     "metadata": {},
     "output_type": "execute_result"
    }
   ],
   "source": [
    "# 7. 'PAY_3';\n",
    "\n",
    "# DISCRETE\n",
    "\n",
    "input_series = df['PAY_3']\n",
    "accepted_values_list = list(range(-2, 10))\n",
    "inspect_discrete_var(input_series, accepted_values_list)"
   ]
  },
  {
   "cell_type": "code",
   "execution_count": 25,
   "metadata": {
    "collapsed": true
   },
   "outputs": [],
   "source": [
    "# No data wrangling is needed for 'PAY_3'."
   ]
  },
  {
   "cell_type": "code",
   "execution_count": 26,
   "metadata": {},
   "outputs": [
    {
     "data": {
      "text/html": [
       "<style  type=\"text/css\" >\n",
       "</style>  \n",
       "<table id=\"T_f97a3828_b2c9_11e7_8212_10ddb1b28204\" > \n",
       "<thead>    <tr> \n",
       "        <th class=\"blank level0\" ></th> \n",
       "        <th class=\"col_heading level0 col0\" >value_counts</th> \n",
       "        <th class=\"col_heading level0 col1\" >percentage</th> \n",
       "    </tr>    <tr> \n",
       "        <th class=\"index_name level0\" >PAY_4</th> \n",
       "        <th class=\"blank\" ></th> \n",
       "        <th class=\"blank\" ></th> \n",
       "    </tr></thead> \n",
       "<tbody>    <tr> \n",
       "        <th id=\"T_f97a3828_b2c9_11e7_8212_10ddb1b28204level0_row0\" class=\"row_heading level0 row0\" >-2</th> \n",
       "        <td id=\"T_f97a3828_b2c9_11e7_8212_10ddb1b28204row0_col0\" class=\"data row0 col0\" >4,348</td> \n",
       "        <td id=\"T_f97a3828_b2c9_11e7_8212_10ddb1b28204row0_col1\" class=\"data row0 col1\" >14.5%</td> \n",
       "    </tr>    <tr> \n",
       "        <th id=\"T_f97a3828_b2c9_11e7_8212_10ddb1b28204level0_row1\" class=\"row_heading level0 row1\" >-1</th> \n",
       "        <td id=\"T_f97a3828_b2c9_11e7_8212_10ddb1b28204row1_col0\" class=\"data row1 col0\" >5,687</td> \n",
       "        <td id=\"T_f97a3828_b2c9_11e7_8212_10ddb1b28204row1_col1\" class=\"data row1 col1\" >19.0%</td> \n",
       "    </tr>    <tr> \n",
       "        <th id=\"T_f97a3828_b2c9_11e7_8212_10ddb1b28204level0_row2\" class=\"row_heading level0 row2\" >0</th> \n",
       "        <td id=\"T_f97a3828_b2c9_11e7_8212_10ddb1b28204row2_col0\" class=\"data row2 col0\" >16,455</td> \n",
       "        <td id=\"T_f97a3828_b2c9_11e7_8212_10ddb1b28204row2_col1\" class=\"data row2 col1\" >54.9%</td> \n",
       "    </tr>    <tr> \n",
       "        <th id=\"T_f97a3828_b2c9_11e7_8212_10ddb1b28204level0_row3\" class=\"row_heading level0 row3\" >1</th> \n",
       "        <td id=\"T_f97a3828_b2c9_11e7_8212_10ddb1b28204row3_col0\" class=\"data row3 col0\" >2</td> \n",
       "        <td id=\"T_f97a3828_b2c9_11e7_8212_10ddb1b28204row3_col1\" class=\"data row3 col1\" >0.0%</td> \n",
       "    </tr>    <tr> \n",
       "        <th id=\"T_f97a3828_b2c9_11e7_8212_10ddb1b28204level0_row4\" class=\"row_heading level0 row4\" >2</th> \n",
       "        <td id=\"T_f97a3828_b2c9_11e7_8212_10ddb1b28204row4_col0\" class=\"data row4 col0\" >3,159</td> \n",
       "        <td id=\"T_f97a3828_b2c9_11e7_8212_10ddb1b28204row4_col1\" class=\"data row4 col1\" >10.5%</td> \n",
       "    </tr>    <tr> \n",
       "        <th id=\"T_f97a3828_b2c9_11e7_8212_10ddb1b28204level0_row5\" class=\"row_heading level0 row5\" >3</th> \n",
       "        <td id=\"T_f97a3828_b2c9_11e7_8212_10ddb1b28204row5_col0\" class=\"data row5 col0\" >180</td> \n",
       "        <td id=\"T_f97a3828_b2c9_11e7_8212_10ddb1b28204row5_col1\" class=\"data row5 col1\" >0.6%</td> \n",
       "    </tr>    <tr> \n",
       "        <th id=\"T_f97a3828_b2c9_11e7_8212_10ddb1b28204level0_row6\" class=\"row_heading level0 row6\" >4</th> \n",
       "        <td id=\"T_f97a3828_b2c9_11e7_8212_10ddb1b28204row6_col0\" class=\"data row6 col0\" >69</td> \n",
       "        <td id=\"T_f97a3828_b2c9_11e7_8212_10ddb1b28204row6_col1\" class=\"data row6 col1\" >0.2%</td> \n",
       "    </tr>    <tr> \n",
       "        <th id=\"T_f97a3828_b2c9_11e7_8212_10ddb1b28204level0_row7\" class=\"row_heading level0 row7\" >5</th> \n",
       "        <td id=\"T_f97a3828_b2c9_11e7_8212_10ddb1b28204row7_col0\" class=\"data row7 col0\" >35</td> \n",
       "        <td id=\"T_f97a3828_b2c9_11e7_8212_10ddb1b28204row7_col1\" class=\"data row7 col1\" >0.1%</td> \n",
       "    </tr>    <tr> \n",
       "        <th id=\"T_f97a3828_b2c9_11e7_8212_10ddb1b28204level0_row8\" class=\"row_heading level0 row8\" >6</th> \n",
       "        <td id=\"T_f97a3828_b2c9_11e7_8212_10ddb1b28204row8_col0\" class=\"data row8 col0\" >5</td> \n",
       "        <td id=\"T_f97a3828_b2c9_11e7_8212_10ddb1b28204row8_col1\" class=\"data row8 col1\" >0.0%</td> \n",
       "    </tr>    <tr> \n",
       "        <th id=\"T_f97a3828_b2c9_11e7_8212_10ddb1b28204level0_row9\" class=\"row_heading level0 row9\" >7</th> \n",
       "        <td id=\"T_f97a3828_b2c9_11e7_8212_10ddb1b28204row9_col0\" class=\"data row9 col0\" >58</td> \n",
       "        <td id=\"T_f97a3828_b2c9_11e7_8212_10ddb1b28204row9_col1\" class=\"data row9 col1\" >0.2%</td> \n",
       "    </tr>    <tr> \n",
       "        <th id=\"T_f97a3828_b2c9_11e7_8212_10ddb1b28204level0_row10\" class=\"row_heading level0 row10\" >8</th> \n",
       "        <td id=\"T_f97a3828_b2c9_11e7_8212_10ddb1b28204row10_col0\" class=\"data row10 col0\" >2</td> \n",
       "        <td id=\"T_f97a3828_b2c9_11e7_8212_10ddb1b28204row10_col1\" class=\"data row10 col1\" >0.0%</td> \n",
       "    </tr></tbody> \n",
       "</table> "
      ],
      "text/plain": [
       "<pandas.io.formats.style.Styler at 0x115783c88>"
      ]
     },
     "execution_count": 26,
     "metadata": {},
     "output_type": "execute_result"
    }
   ],
   "source": [
    "# 8. 'PAY_4';\n",
    "\n",
    "# DISCRETE\n",
    "\n",
    "input_series = df['PAY_4']\n",
    "accepted_values_list = list(range(-2, 10))\n",
    "inspect_discrete_var(input_series, accepted_values_list)"
   ]
  },
  {
   "cell_type": "code",
   "execution_count": 27,
   "metadata": {
    "collapsed": true
   },
   "outputs": [],
   "source": [
    "# No data wrangling is needed for 'PAY_4'."
   ]
  },
  {
   "cell_type": "code",
   "execution_count": 28,
   "metadata": {},
   "outputs": [
    {
     "data": {
      "text/html": [
       "<style  type=\"text/css\" >\n",
       "</style>  \n",
       "<table id=\"T_f97ed2cc_b2c9_11e7_b0d5_10ddb1b28204\" > \n",
       "<thead>    <tr> \n",
       "        <th class=\"blank level0\" ></th> \n",
       "        <th class=\"col_heading level0 col0\" >value_counts</th> \n",
       "        <th class=\"col_heading level0 col1\" >percentage</th> \n",
       "    </tr>    <tr> \n",
       "        <th class=\"index_name level0\" >PAY_5</th> \n",
       "        <th class=\"blank\" ></th> \n",
       "        <th class=\"blank\" ></th> \n",
       "    </tr></thead> \n",
       "<tbody>    <tr> \n",
       "        <th id=\"T_f97ed2cc_b2c9_11e7_b0d5_10ddb1b28204level0_row0\" class=\"row_heading level0 row0\" >-2</th> \n",
       "        <td id=\"T_f97ed2cc_b2c9_11e7_b0d5_10ddb1b28204row0_col0\" class=\"data row0 col0\" >4,546</td> \n",
       "        <td id=\"T_f97ed2cc_b2c9_11e7_b0d5_10ddb1b28204row0_col1\" class=\"data row0 col1\" >15.2%</td> \n",
       "    </tr>    <tr> \n",
       "        <th id=\"T_f97ed2cc_b2c9_11e7_b0d5_10ddb1b28204level0_row1\" class=\"row_heading level0 row1\" >-1</th> \n",
       "        <td id=\"T_f97ed2cc_b2c9_11e7_b0d5_10ddb1b28204row1_col0\" class=\"data row1 col0\" >5,539</td> \n",
       "        <td id=\"T_f97ed2cc_b2c9_11e7_b0d5_10ddb1b28204row1_col1\" class=\"data row1 col1\" >18.5%</td> \n",
       "    </tr>    <tr> \n",
       "        <th id=\"T_f97ed2cc_b2c9_11e7_b0d5_10ddb1b28204level0_row2\" class=\"row_heading level0 row2\" >0</th> \n",
       "        <td id=\"T_f97ed2cc_b2c9_11e7_b0d5_10ddb1b28204row2_col0\" class=\"data row2 col0\" >16,947</td> \n",
       "        <td id=\"T_f97ed2cc_b2c9_11e7_b0d5_10ddb1b28204row2_col1\" class=\"data row2 col1\" >56.5%</td> \n",
       "    </tr>    <tr> \n",
       "        <th id=\"T_f97ed2cc_b2c9_11e7_b0d5_10ddb1b28204level0_row3\" class=\"row_heading level0 row3\" >2</th> \n",
       "        <td id=\"T_f97ed2cc_b2c9_11e7_b0d5_10ddb1b28204row3_col0\" class=\"data row3 col0\" >2,626</td> \n",
       "        <td id=\"T_f97ed2cc_b2c9_11e7_b0d5_10ddb1b28204row3_col1\" class=\"data row3 col1\" >8.8%</td> \n",
       "    </tr>    <tr> \n",
       "        <th id=\"T_f97ed2cc_b2c9_11e7_b0d5_10ddb1b28204level0_row4\" class=\"row_heading level0 row4\" >3</th> \n",
       "        <td id=\"T_f97ed2cc_b2c9_11e7_b0d5_10ddb1b28204row4_col0\" class=\"data row4 col0\" >178</td> \n",
       "        <td id=\"T_f97ed2cc_b2c9_11e7_b0d5_10ddb1b28204row4_col1\" class=\"data row4 col1\" >0.6%</td> \n",
       "    </tr>    <tr> \n",
       "        <th id=\"T_f97ed2cc_b2c9_11e7_b0d5_10ddb1b28204level0_row5\" class=\"row_heading level0 row5\" >4</th> \n",
       "        <td id=\"T_f97ed2cc_b2c9_11e7_b0d5_10ddb1b28204row5_col0\" class=\"data row5 col0\" >84</td> \n",
       "        <td id=\"T_f97ed2cc_b2c9_11e7_b0d5_10ddb1b28204row5_col1\" class=\"data row5 col1\" >0.3%</td> \n",
       "    </tr>    <tr> \n",
       "        <th id=\"T_f97ed2cc_b2c9_11e7_b0d5_10ddb1b28204level0_row6\" class=\"row_heading level0 row6\" >5</th> \n",
       "        <td id=\"T_f97ed2cc_b2c9_11e7_b0d5_10ddb1b28204row6_col0\" class=\"data row6 col0\" >17</td> \n",
       "        <td id=\"T_f97ed2cc_b2c9_11e7_b0d5_10ddb1b28204row6_col1\" class=\"data row6 col1\" >0.1%</td> \n",
       "    </tr>    <tr> \n",
       "        <th id=\"T_f97ed2cc_b2c9_11e7_b0d5_10ddb1b28204level0_row7\" class=\"row_heading level0 row7\" >6</th> \n",
       "        <td id=\"T_f97ed2cc_b2c9_11e7_b0d5_10ddb1b28204row7_col0\" class=\"data row7 col0\" >4</td> \n",
       "        <td id=\"T_f97ed2cc_b2c9_11e7_b0d5_10ddb1b28204row7_col1\" class=\"data row7 col1\" >0.0%</td> \n",
       "    </tr>    <tr> \n",
       "        <th id=\"T_f97ed2cc_b2c9_11e7_b0d5_10ddb1b28204level0_row8\" class=\"row_heading level0 row8\" >7</th> \n",
       "        <td id=\"T_f97ed2cc_b2c9_11e7_b0d5_10ddb1b28204row8_col0\" class=\"data row8 col0\" >58</td> \n",
       "        <td id=\"T_f97ed2cc_b2c9_11e7_b0d5_10ddb1b28204row8_col1\" class=\"data row8 col1\" >0.2%</td> \n",
       "    </tr>    <tr> \n",
       "        <th id=\"T_f97ed2cc_b2c9_11e7_b0d5_10ddb1b28204level0_row9\" class=\"row_heading level0 row9\" >8</th> \n",
       "        <td id=\"T_f97ed2cc_b2c9_11e7_b0d5_10ddb1b28204row9_col0\" class=\"data row9 col0\" >1</td> \n",
       "        <td id=\"T_f97ed2cc_b2c9_11e7_b0d5_10ddb1b28204row9_col1\" class=\"data row9 col1\" >0.0%</td> \n",
       "    </tr></tbody> \n",
       "</table> "
      ],
      "text/plain": [
       "<pandas.io.formats.style.Styler at 0x10ca4c668>"
      ]
     },
     "execution_count": 28,
     "metadata": {},
     "output_type": "execute_result"
    }
   ],
   "source": [
    "# 9. 'PAY_5';\n",
    "\n",
    "# DISCRETE\n",
    "\n",
    "input_series = df['PAY_5']\n",
    "accepted_values_list = list(range(-2, 10))\n",
    "inspect_discrete_var(input_series, accepted_values_list)"
   ]
  },
  {
   "cell_type": "code",
   "execution_count": 29,
   "metadata": {
    "collapsed": true
   },
   "outputs": [],
   "source": [
    "# No data wrangling is needed for 'PAY_5'."
   ]
  },
  {
   "cell_type": "code",
   "execution_count": 30,
   "metadata": {},
   "outputs": [
    {
     "data": {
      "text/html": [
       "<style  type=\"text/css\" >\n",
       "</style>  \n",
       "<table id=\"T_f98319f4_b2c9_11e7_baf7_10ddb1b28204\" > \n",
       "<thead>    <tr> \n",
       "        <th class=\"blank level0\" ></th> \n",
       "        <th class=\"col_heading level0 col0\" >value_counts</th> \n",
       "        <th class=\"col_heading level0 col1\" >percentage</th> \n",
       "    </tr>    <tr> \n",
       "        <th class=\"index_name level0\" >PAY_6</th> \n",
       "        <th class=\"blank\" ></th> \n",
       "        <th class=\"blank\" ></th> \n",
       "    </tr></thead> \n",
       "<tbody>    <tr> \n",
       "        <th id=\"T_f98319f4_b2c9_11e7_baf7_10ddb1b28204level0_row0\" class=\"row_heading level0 row0\" >-2</th> \n",
       "        <td id=\"T_f98319f4_b2c9_11e7_baf7_10ddb1b28204row0_col0\" class=\"data row0 col0\" >4,895</td> \n",
       "        <td id=\"T_f98319f4_b2c9_11e7_baf7_10ddb1b28204row0_col1\" class=\"data row0 col1\" >16.3%</td> \n",
       "    </tr>    <tr> \n",
       "        <th id=\"T_f98319f4_b2c9_11e7_baf7_10ddb1b28204level0_row1\" class=\"row_heading level0 row1\" >-1</th> \n",
       "        <td id=\"T_f98319f4_b2c9_11e7_baf7_10ddb1b28204row1_col0\" class=\"data row1 col0\" >5,740</td> \n",
       "        <td id=\"T_f98319f4_b2c9_11e7_baf7_10ddb1b28204row1_col1\" class=\"data row1 col1\" >19.1%</td> \n",
       "    </tr>    <tr> \n",
       "        <th id=\"T_f98319f4_b2c9_11e7_baf7_10ddb1b28204level0_row2\" class=\"row_heading level0 row2\" >0</th> \n",
       "        <td id=\"T_f98319f4_b2c9_11e7_baf7_10ddb1b28204row2_col0\" class=\"data row2 col0\" >16,286</td> \n",
       "        <td id=\"T_f98319f4_b2c9_11e7_baf7_10ddb1b28204row2_col1\" class=\"data row2 col1\" >54.3%</td> \n",
       "    </tr>    <tr> \n",
       "        <th id=\"T_f98319f4_b2c9_11e7_baf7_10ddb1b28204level0_row3\" class=\"row_heading level0 row3\" >2</th> \n",
       "        <td id=\"T_f98319f4_b2c9_11e7_baf7_10ddb1b28204row3_col0\" class=\"data row3 col0\" >2,766</td> \n",
       "        <td id=\"T_f98319f4_b2c9_11e7_baf7_10ddb1b28204row3_col1\" class=\"data row3 col1\" >9.2%</td> \n",
       "    </tr>    <tr> \n",
       "        <th id=\"T_f98319f4_b2c9_11e7_baf7_10ddb1b28204level0_row4\" class=\"row_heading level0 row4\" >3</th> \n",
       "        <td id=\"T_f98319f4_b2c9_11e7_baf7_10ddb1b28204row4_col0\" class=\"data row4 col0\" >184</td> \n",
       "        <td id=\"T_f98319f4_b2c9_11e7_baf7_10ddb1b28204row4_col1\" class=\"data row4 col1\" >0.6%</td> \n",
       "    </tr>    <tr> \n",
       "        <th id=\"T_f98319f4_b2c9_11e7_baf7_10ddb1b28204level0_row5\" class=\"row_heading level0 row5\" >4</th> \n",
       "        <td id=\"T_f98319f4_b2c9_11e7_baf7_10ddb1b28204row5_col0\" class=\"data row5 col0\" >49</td> \n",
       "        <td id=\"T_f98319f4_b2c9_11e7_baf7_10ddb1b28204row5_col1\" class=\"data row5 col1\" >0.2%</td> \n",
       "    </tr>    <tr> \n",
       "        <th id=\"T_f98319f4_b2c9_11e7_baf7_10ddb1b28204level0_row6\" class=\"row_heading level0 row6\" >5</th> \n",
       "        <td id=\"T_f98319f4_b2c9_11e7_baf7_10ddb1b28204row6_col0\" class=\"data row6 col0\" >13</td> \n",
       "        <td id=\"T_f98319f4_b2c9_11e7_baf7_10ddb1b28204row6_col1\" class=\"data row6 col1\" >0.0%</td> \n",
       "    </tr>    <tr> \n",
       "        <th id=\"T_f98319f4_b2c9_11e7_baf7_10ddb1b28204level0_row7\" class=\"row_heading level0 row7\" >6</th> \n",
       "        <td id=\"T_f98319f4_b2c9_11e7_baf7_10ddb1b28204row7_col0\" class=\"data row7 col0\" >19</td> \n",
       "        <td id=\"T_f98319f4_b2c9_11e7_baf7_10ddb1b28204row7_col1\" class=\"data row7 col1\" >0.1%</td> \n",
       "    </tr>    <tr> \n",
       "        <th id=\"T_f98319f4_b2c9_11e7_baf7_10ddb1b28204level0_row8\" class=\"row_heading level0 row8\" >7</th> \n",
       "        <td id=\"T_f98319f4_b2c9_11e7_baf7_10ddb1b28204row8_col0\" class=\"data row8 col0\" >46</td> \n",
       "        <td id=\"T_f98319f4_b2c9_11e7_baf7_10ddb1b28204row8_col1\" class=\"data row8 col1\" >0.2%</td> \n",
       "    </tr>    <tr> \n",
       "        <th id=\"T_f98319f4_b2c9_11e7_baf7_10ddb1b28204level0_row9\" class=\"row_heading level0 row9\" >8</th> \n",
       "        <td id=\"T_f98319f4_b2c9_11e7_baf7_10ddb1b28204row9_col0\" class=\"data row9 col0\" >2</td> \n",
       "        <td id=\"T_f98319f4_b2c9_11e7_baf7_10ddb1b28204row9_col1\" class=\"data row9 col1\" >0.0%</td> \n",
       "    </tr></tbody> \n",
       "</table> "
      ],
      "text/plain": [
       "<pandas.io.formats.style.Styler at 0x11492d588>"
      ]
     },
     "execution_count": 30,
     "metadata": {},
     "output_type": "execute_result"
    }
   ],
   "source": [
    "# 10. 'PAY_6';\n",
    "\n",
    "# DISCRETE\n",
    "\n",
    "input_series = df['PAY_6']\n",
    "accepted_values_list = list(range(-2, 10))\n",
    "inspect_discrete_var(input_series, accepted_values_list)"
   ]
  },
  {
   "cell_type": "code",
   "execution_count": 31,
   "metadata": {
    "collapsed": true
   },
   "outputs": [],
   "source": [
    "# No data wrangling is needed for 'PAY_6'."
   ]
  },
  {
   "cell_type": "code",
   "execution_count": 32,
   "metadata": {},
   "outputs": [
    {
     "data": {
      "text/html": [
       "<div>\n",
       "<style>\n",
       "    .dataframe thead tr:only-child th {\n",
       "        text-align: right;\n",
       "    }\n",
       "\n",
       "    .dataframe thead th {\n",
       "        text-align: left;\n",
       "    }\n",
       "\n",
       "    .dataframe tbody tr th {\n",
       "        vertical-align: top;\n",
       "    }\n",
       "</style>\n",
       "<table border=\"1\" class=\"dataframe\">\n",
       "  <thead>\n",
       "    <tr style=\"text-align: right;\">\n",
       "      <th></th>\n",
       "      <th>LIMIT_BAL</th>\n",
       "      <th>SEX</th>\n",
       "      <th>EDUCATION</th>\n",
       "      <th>MARRIAGE</th>\n",
       "      <th>AGE</th>\n",
       "      <th>PAY_1</th>\n",
       "      <th>PAY_2</th>\n",
       "      <th>PAY_3</th>\n",
       "      <th>PAY_4</th>\n",
       "      <th>PAY_5</th>\n",
       "      <th>PAY_6</th>\n",
       "      <th>BILL_AMT1</th>\n",
       "      <th>BILL_AMT2</th>\n",
       "      <th>BILL_AMT3</th>\n",
       "      <th>BILL_AMT4</th>\n",
       "      <th>BILL_AMT5</th>\n",
       "      <th>BILL_AMT6</th>\n",
       "      <th>PAY_AMT1</th>\n",
       "      <th>PAY_AMT2</th>\n",
       "      <th>PAY_AMT3</th>\n",
       "      <th>PAY_AMT4</th>\n",
       "      <th>PAY_AMT5</th>\n",
       "      <th>PAY_AMT6</th>\n",
       "      <th>default payment next month</th>\n",
       "    </tr>\n",
       "    <tr>\n",
       "      <th>ID</th>\n",
       "      <th></th>\n",
       "      <th></th>\n",
       "      <th></th>\n",
       "      <th></th>\n",
       "      <th></th>\n",
       "      <th></th>\n",
       "      <th></th>\n",
       "      <th></th>\n",
       "      <th></th>\n",
       "      <th></th>\n",
       "      <th></th>\n",
       "      <th></th>\n",
       "      <th></th>\n",
       "      <th></th>\n",
       "      <th></th>\n",
       "      <th></th>\n",
       "      <th></th>\n",
       "      <th></th>\n",
       "      <th></th>\n",
       "      <th></th>\n",
       "      <th></th>\n",
       "      <th></th>\n",
       "      <th></th>\n",
       "      <th></th>\n",
       "    </tr>\n",
       "  </thead>\n",
       "  <tbody>\n",
       "    <tr>\n",
       "      <th>1</th>\n",
       "      <td>20000</td>\n",
       "      <td>2</td>\n",
       "      <td>2</td>\n",
       "      <td>1</td>\n",
       "      <td>24</td>\n",
       "      <td>2</td>\n",
       "      <td>2</td>\n",
       "      <td>-1</td>\n",
       "      <td>-1</td>\n",
       "      <td>-2</td>\n",
       "      <td>-2</td>\n",
       "      <td>3913</td>\n",
       "      <td>3102</td>\n",
       "      <td>689</td>\n",
       "      <td>0</td>\n",
       "      <td>0</td>\n",
       "      <td>0</td>\n",
       "      <td>0</td>\n",
       "      <td>689</td>\n",
       "      <td>0</td>\n",
       "      <td>0</td>\n",
       "      <td>0</td>\n",
       "      <td>0</td>\n",
       "      <td>1</td>\n",
       "    </tr>\n",
       "    <tr>\n",
       "      <th>2</th>\n",
       "      <td>120000</td>\n",
       "      <td>2</td>\n",
       "      <td>2</td>\n",
       "      <td>2</td>\n",
       "      <td>26</td>\n",
       "      <td>-1</td>\n",
       "      <td>2</td>\n",
       "      <td>0</td>\n",
       "      <td>0</td>\n",
       "      <td>0</td>\n",
       "      <td>2</td>\n",
       "      <td>2682</td>\n",
       "      <td>1725</td>\n",
       "      <td>2682</td>\n",
       "      <td>3272</td>\n",
       "      <td>3455</td>\n",
       "      <td>3261</td>\n",
       "      <td>0</td>\n",
       "      <td>1000</td>\n",
       "      <td>1000</td>\n",
       "      <td>1000</td>\n",
       "      <td>0</td>\n",
       "      <td>2000</td>\n",
       "      <td>1</td>\n",
       "    </tr>\n",
       "    <tr>\n",
       "      <th>3</th>\n",
       "      <td>90000</td>\n",
       "      <td>2</td>\n",
       "      <td>2</td>\n",
       "      <td>2</td>\n",
       "      <td>34</td>\n",
       "      <td>0</td>\n",
       "      <td>0</td>\n",
       "      <td>0</td>\n",
       "      <td>0</td>\n",
       "      <td>0</td>\n",
       "      <td>0</td>\n",
       "      <td>29239</td>\n",
       "      <td>14027</td>\n",
       "      <td>13559</td>\n",
       "      <td>14331</td>\n",
       "      <td>14948</td>\n",
       "      <td>15549</td>\n",
       "      <td>1518</td>\n",
       "      <td>1500</td>\n",
       "      <td>1000</td>\n",
       "      <td>1000</td>\n",
       "      <td>1000</td>\n",
       "      <td>5000</td>\n",
       "      <td>0</td>\n",
       "    </tr>\n",
       "    <tr>\n",
       "      <th>4</th>\n",
       "      <td>50000</td>\n",
       "      <td>2</td>\n",
       "      <td>2</td>\n",
       "      <td>1</td>\n",
       "      <td>37</td>\n",
       "      <td>0</td>\n",
       "      <td>0</td>\n",
       "      <td>0</td>\n",
       "      <td>0</td>\n",
       "      <td>0</td>\n",
       "      <td>0</td>\n",
       "      <td>46990</td>\n",
       "      <td>48233</td>\n",
       "      <td>49291</td>\n",
       "      <td>28314</td>\n",
       "      <td>28959</td>\n",
       "      <td>29547</td>\n",
       "      <td>2000</td>\n",
       "      <td>2019</td>\n",
       "      <td>1200</td>\n",
       "      <td>1100</td>\n",
       "      <td>1069</td>\n",
       "      <td>1000</td>\n",
       "      <td>0</td>\n",
       "    </tr>\n",
       "    <tr>\n",
       "      <th>5</th>\n",
       "      <td>50000</td>\n",
       "      <td>1</td>\n",
       "      <td>2</td>\n",
       "      <td>1</td>\n",
       "      <td>57</td>\n",
       "      <td>-1</td>\n",
       "      <td>0</td>\n",
       "      <td>-1</td>\n",
       "      <td>0</td>\n",
       "      <td>0</td>\n",
       "      <td>0</td>\n",
       "      <td>8617</td>\n",
       "      <td>5670</td>\n",
       "      <td>35835</td>\n",
       "      <td>20940</td>\n",
       "      <td>19146</td>\n",
       "      <td>19131</td>\n",
       "      <td>2000</td>\n",
       "      <td>36681</td>\n",
       "      <td>10000</td>\n",
       "      <td>9000</td>\n",
       "      <td>689</td>\n",
       "      <td>679</td>\n",
       "      <td>0</td>\n",
       "    </tr>\n",
       "  </tbody>\n",
       "</table>\n",
       "</div>"
      ],
      "text/plain": [
       "    LIMIT_BAL  SEX  EDUCATION  MARRIAGE  AGE  PAY_1  PAY_2  PAY_3  PAY_4  \\\n",
       "ID                                                                         \n",
       "1       20000    2          2         1   24      2      2     -1     -1   \n",
       "2      120000    2          2         2   26     -1      2      0      0   \n",
       "3       90000    2          2         2   34      0      0      0      0   \n",
       "4       50000    2          2         1   37      0      0      0      0   \n",
       "5       50000    1          2         1   57     -1      0     -1      0   \n",
       "\n",
       "    PAY_5  PAY_6  BILL_AMT1  BILL_AMT2  BILL_AMT3  BILL_AMT4  BILL_AMT5  \\\n",
       "ID                                                                        \n",
       "1      -2     -2       3913       3102        689          0          0   \n",
       "2       0      2       2682       1725       2682       3272       3455   \n",
       "3       0      0      29239      14027      13559      14331      14948   \n",
       "4       0      0      46990      48233      49291      28314      28959   \n",
       "5       0      0       8617       5670      35835      20940      19146   \n",
       "\n",
       "    BILL_AMT6  PAY_AMT1  PAY_AMT2  PAY_AMT3  PAY_AMT4  PAY_AMT5  PAY_AMT6  \\\n",
       "ID                                                                          \n",
       "1           0         0       689         0         0         0         0   \n",
       "2        3261         0      1000      1000      1000         0      2000   \n",
       "3       15549      1518      1500      1000      1000      1000      5000   \n",
       "4       29547      2000      2019      1200      1100      1069      1000   \n",
       "5       19131      2000     36681     10000      9000       689       679   \n",
       "\n",
       "    default payment next month  \n",
       "ID                              \n",
       "1                            1  \n",
       "2                            1  \n",
       "3                            0  \n",
       "4                            0  \n",
       "5                            0  "
      ]
     },
     "execution_count": 32,
     "metadata": {},
     "output_type": "execute_result"
    }
   ],
   "source": [
    "# We relabel 'PAY_0' as 'PAY_1'.\n",
    "\n",
    "df_edited.rename(columns={'PAY_0': 'PAY_1'}, inplace=True)\n",
    "df_edited.head()"
   ]
  },
  {
   "cell_type": "markdown",
   "metadata": {},
   "source": [
    "### Continuous variables: "
   ]
  },
  {
   "cell_type": "code",
   "execution_count": 33,
   "metadata": {},
   "outputs": [
    {
     "data": {
      "image/png": "[encoded data removed]",
      "text/plain": [
       "<matplotlib.figure.Figure at 0x11492de10>"
      ]
     },
     "metadata": {},
     "output_type": "display_data"
    },
    {
     "name": "stdout",
     "output_type": "stream",
     "text": [
      "Min: \t\t\t 10,000\n",
      "Lower Quartile: \t 50,000\n",
      "median: \t\t 140,000\n",
      "mean: \t\t\t 167,484\n",
      "Upper Quartile: \t 240,000\n",
      "max: \t\t\t 1,000,000\n",
      "\n",
      "\n",
      "Skew: \t\t\t 0.99\n",
      "Kurtosis: \t\t 0.54\n"
     ]
    }
   ],
   "source": [
    "# 1. 'LIMIT_BAL';\n",
    "\n",
    "# X1: Amount of the given credit (NT dollar): \n",
    "# it includes both the individual consumer credit and his/her family (supplementary) credit.\n",
    "\n",
    "# CONTINUOUS\n",
    "\n",
    "input_series = df['LIMIT_BAL']\n",
    "inspect_continuous_var(input_series)"
   ]
  },
  {
   "cell_type": "code",
   "execution_count": 34,
   "metadata": {},
   "outputs": [
    {
     "data": {
      "image/png": "[encoded data removed]",
      "text/plain": [
       "<matplotlib.figure.Figure at 0x1128bbb38>"
      ]
     },
     "metadata": {},
     "output_type": "display_data"
    },
    {
     "name": "stdout",
     "output_type": "stream",
     "text": [
      "Min: \t\t\t 10,000\n",
      "Lower Quartile: \t 50,000\n",
      "median: \t\t 140,000\n",
      "mean: \t\t\t 139,263\n",
      "Upper Quartile: \t 240,000\n",
      "max: \t\t\t 240,000\n",
      "\n",
      "\n",
      "Skew: \t\t\t -0.05\n",
      "Kurtosis: \t\t -1.55\n"
     ]
    }
   ],
   "source": [
    "# 'LIMIT_BAL' has high kurtosis and is highly skewed. \n",
    "# We will create a second edited data set\n",
    "# in which we trim outliers.\n",
    "\n",
    "df_edited_trimmed = df_edited.copy()\n",
    "\n",
    "trim_max = df_edited_trimmed.LIMIT_BAL.quantile(.75)\n",
    "df_edited_trimmed.LIMIT_BAL = df_edited_trimmed.LIMIT_BAL.apply(trim, \n",
    "                                                                trim_max=trim_max)\n",
    "\n",
    "input_series = df_edited_trimmed.LIMIT_BAL\n",
    "inspect_continuous_var(input_series)"
   ]
  },
  {
   "cell_type": "code",
   "execution_count": 35,
   "metadata": {},
   "outputs": [
    {
     "data": {
      "image/png": "[encoded data removed]",
      "text/plain": [
       "<matplotlib.figure.Figure at 0x112813358>"
      ]
     },
     "metadata": {},
     "output_type": "display_data"
    },
    {
     "name": "stdout",
     "output_type": "stream",
     "text": [
      "Min: \t\t\t 21\n",
      "Lower Quartile: \t 28\n",
      "median: \t\t 34\n",
      "mean: \t\t\t 35\n",
      "Upper Quartile: \t 41\n",
      "max: \t\t\t 79\n",
      "\n",
      "\n",
      "Skew: \t\t\t 0.73\n",
      "Kurtosis: \t\t 0.04\n"
     ]
    }
   ],
   "source": [
    "# 2. 'AGE';\n",
    "\n",
    "# X5: Age (year).\n",
    "\n",
    "# CONTINUOUS\n",
    "\n",
    "input_series = df['AGE']\n",
    "inspect_continuous_var(input_series)"
   ]
  },
  {
   "cell_type": "code",
   "execution_count": 36,
   "metadata": {
    "collapsed": true
   },
   "outputs": [],
   "source": [
    "# No data wrangling is needed for 'AGE'."
   ]
  },
  {
   "cell_type": "markdown",
   "metadata": {},
   "source": [
    "'BILL_AMT1', 'BILL_AMT2', 'BILL_AMT3', 'BILL_AMT4', 'BILL_AMT5', and 'BILL_AMT6' are described as follows:\n",
    "\n",
    "    \n",
    "3. 'BILL_AMT1';\n",
    "4. 'BILL_AMT2';\n",
    "5. 'BILL_AMT3';\n",
    "6. 'BILL_AMT4';\n",
    "7. 'BILL_AMT5'; and\n",
    "8. 'BILL_AMT6'.   \n",
    "\n",
    "\n",
    "X12-X17: Amount of bill statement (NT dollar). \n",
    "+ X12 = amount of bill statement in September, 2005; \n",
    "+ X13 = amount of bill statement in August, 2005; \n",
    "+ . . .; \n",
    "+ X17 = amount of bill statement in April, 2005."
   ]
  },
  {
   "cell_type": "code",
   "execution_count": 37,
   "metadata": {},
   "outputs": [
    {
     "data": {
      "image/png": "[encoded data removed]",
      "text/plain": [
       "<matplotlib.figure.Figure at 0x1129716a0>"
      ]
     },
     "metadata": {},
     "output_type": "display_data"
    },
    {
     "name": "stdout",
     "output_type": "stream",
     "text": [
      "Min: \t\t\t -165,580\n",
      "Lower Quartile: \t 3,559\n",
      "median: \t\t 22,382\n",
      "mean: \t\t\t 51,223\n",
      "Upper Quartile: \t 67,091\n",
      "max: \t\t\t 964,511\n",
      "\n",
      "\n",
      "Skew: \t\t\t 2.66\n",
      "Kurtosis: \t\t 9.81\n"
     ]
    }
   ],
   "source": [
    "# 3. 'BILL_AMT1';\n",
    "\n",
    "# X12 = amount of bill statement in September, 2005; \n",
    "\n",
    "# CONTINUOUS\n",
    "\n",
    "input_series = df['BILL_AMT1']\n",
    "inspect_continuous_var(input_series)"
   ]
  },
  {
   "cell_type": "code",
   "execution_count": 38,
   "metadata": {},
   "outputs": [
    {
     "data": {
      "image/png": "[encoded data removed]",
      "text/plain": [
       "<matplotlib.figure.Figure at 0x11288f6a0>"
      ]
     },
     "metadata": {},
     "output_type": "display_data"
    },
    {
     "name": "stdout",
     "output_type": "stream",
     "text": [
      "Min: \t\t\t 3,559\n",
      "Lower Quartile: \t 3,559\n",
      "median: \t\t 22,382\n",
      "mean: \t\t\t 31,042\n",
      "Upper Quartile: \t 67,090\n",
      "max: \t\t\t 67,091\n",
      "\n",
      "\n",
      "Skew: \t\t\t 0.33\n",
      "Kurtosis: \t\t -1.58\n"
     ]
    }
   ],
   "source": [
    "# 'BILL_AMT1' has high kurtosis and is highly skewed. \n",
    "# We will trim these outliers in df_edited_trimmed.\n",
    "\n",
    "trim_max = df_edited_trimmed.BILL_AMT1.quantile(.75)\n",
    "trim_min = df_edited_trimmed.BILL_AMT1.quantile(.25)\n",
    "df_edited_trimmed.BILL_AMT1 = df_edited_trimmed.BILL_AMT1.apply(trim, \n",
    "                                                                trim_max=trim_max,\n",
    "                                                                trim_min=trim_min)\n",
    "\n",
    "input_series = df_edited_trimmed.BILL_AMT1\n",
    "inspect_continuous_var(input_series)"
   ]
  },
  {
   "cell_type": "code",
   "execution_count": 39,
   "metadata": {},
   "outputs": [
    {
     "data": {
      "image/png": "[encoded data removed]",
      "text/plain": [
       "<matplotlib.figure.Figure at 0x1128eb128>"
      ]
     },
     "metadata": {},
     "output_type": "display_data"
    },
    {
     "name": "stdout",
     "output_type": "stream",
     "text": [
      "Min: \t\t\t -69,777\n",
      "Lower Quartile: \t 2,985\n",
      "median: \t\t 21,200\n",
      "mean: \t\t\t 49,179\n",
      "Upper Quartile: \t 64,006\n",
      "max: \t\t\t 983,931\n",
      "\n",
      "\n",
      "Skew: \t\t\t 2.71\n",
      "Kurtosis: \t\t 10.30\n"
     ]
    }
   ],
   "source": [
    "# 4. 'BILL_AMT2';\n",
    "\n",
    "# X13 = amount of bill statement in August, 2005; \n",
    "\n",
    "# CONTINUOUS\n",
    "\n",
    "input_series = df['BILL_AMT2']\n",
    "inspect_continuous_var(input_series)"
   ]
  },
  {
   "cell_type": "code",
   "execution_count": 40,
   "metadata": {},
   "outputs": [
    {
     "data": {
      "image/png": "[encoded data removed]",
      "text/plain": [
       "<matplotlib.figure.Figure at 0x1129715f8>"
      ]
     },
     "metadata": {},
     "output_type": "display_data"
    },
    {
     "name": "stdout",
     "output_type": "stream",
     "text": [
      "Min: \t\t\t 2,985\n",
      "Lower Quartile: \t 2,985\n",
      "median: \t\t 21,200\n",
      "mean: \t\t\t 29,546\n",
      "Upper Quartile: \t 64,005\n",
      "max: \t\t\t 64,006\n",
      "\n",
      "\n",
      "Skew: \t\t\t 0.32\n",
      "Kurtosis: \t\t -1.58\n"
     ]
    }
   ],
   "source": [
    "# 'BILL_AMT2' has high kurtosis and is highly skewed. \n",
    "# We will trim these outliers in df_edited_trimmed.\n",
    "\n",
    "trim_max = df_edited_trimmed.BILL_AMT2.quantile(.75)\n",
    "trim_min = df_edited_trimmed.BILL_AMT2.quantile(.25)\n",
    "df_edited_trimmed.BILL_AMT2 = df_edited_trimmed.BILL_AMT2.apply(trim, \n",
    "                                                                trim_max=trim_max,\n",
    "                                                                trim_min=trim_min)\n",
    "\n",
    "input_series = df_edited_trimmed.BILL_AMT2\n",
    "inspect_continuous_var(input_series)"
   ]
  },
  {
   "cell_type": "code",
   "execution_count": 41,
   "metadata": {},
   "outputs": [
    {
     "data": {
      "image/png": "[encoded data removed]",
      "text/plain": [
       "<matplotlib.figure.Figure at 0x10df160b8>"
      ]
     },
     "metadata": {},
     "output_type": "display_data"
    },
    {
     "name": "stdout",
     "output_type": "stream",
     "text": [
      "Min: \t\t\t -157,264\n",
      "Lower Quartile: \t 2,666\n",
      "median: \t\t 20,088\n",
      "mean: \t\t\t 47,013\n",
      "Upper Quartile: \t 60,165\n",
      "max: \t\t\t 1,664,089\n",
      "\n",
      "\n",
      "Skew: \t\t\t 3.09\n",
      "Kurtosis: \t\t 19.78\n"
     ]
    }
   ],
   "source": [
    "# 5. 'BILL_AMT3';\n",
    "\n",
    "# X14 = amount of bill statement in July, 2005; \n",
    "\n",
    "# CONTINUOUS\n",
    "\n",
    "input_series = df['BILL_AMT3']\n",
    "inspect_continuous_var(input_series)"
   ]
  },
  {
   "cell_type": "code",
   "execution_count": 42,
   "metadata": {},
   "outputs": [
    {
     "data": {
      "image/png": "[encoded data removed]",
      "text/plain": [
       "<matplotlib.figure.Figure at 0x112ee7278>"
      ]
     },
     "metadata": {},
     "output_type": "display_data"
    },
    {
     "name": "stdout",
     "output_type": "stream",
     "text": [
      "Min: \t\t\t 2,666\n",
      "Lower Quartile: \t 2,667\n",
      "median: \t\t 20,088\n",
      "mean: \t\t\t 27,782\n",
      "Upper Quartile: \t 60,164\n",
      "max: \t\t\t 60,165\n",
      "\n",
      "\n",
      "Skew: \t\t\t 0.32\n",
      "Kurtosis: \t\t -1.58\n"
     ]
    }
   ],
   "source": [
    "# 'BILL_AMT3' has high kurtosis and is highly skewed. \n",
    "# We will trim these outliers in df_edited_trimmed.\n",
    "\n",
    "trim_max = df_edited_trimmed.BILL_AMT3.quantile(.75)\n",
    "trim_min = df_edited_trimmed.BILL_AMT3.quantile(.25)\n",
    "df_edited_trimmed.BILL_AMT3 = df_edited_trimmed.BILL_AMT3.apply(trim, \n",
    "                                                                trim_max=trim_max,\n",
    "                                                                trim_min=trim_min)\n",
    "\n",
    "input_series = df_edited_trimmed.BILL_AMT3\n",
    "inspect_continuous_var(input_series)"
   ]
  },
  {
   "cell_type": "code",
   "execution_count": 43,
   "metadata": {},
   "outputs": [
    {
     "data": {
      "image/png": "[encoded data removed]",
      "text/plain": [
       "<matplotlib.figure.Figure at 0x114905400>"
      ]
     },
     "metadata": {},
     "output_type": "display_data"
    },
    {
     "name": "stdout",
     "output_type": "stream",
     "text": [
      "Min: \t\t\t -170,000\n",
      "Lower Quartile: \t 2,327\n",
      "median: \t\t 19,052\n",
      "mean: \t\t\t 43,263\n",
      "Upper Quartile: \t 54,506\n",
      "max: \t\t\t 891,586\n",
      "\n",
      "\n",
      "Skew: \t\t\t 2.82\n",
      "Kurtosis: \t\t 11.31\n"
     ]
    }
   ],
   "source": [
    "# 6. 'BILL_AMT4';\n",
    "\n",
    "# X15 = amount of bill statement in June, 2005; \n",
    "\n",
    "# CONTINUOUS\n",
    "\n",
    "input_series = df['BILL_AMT4']\n",
    "inspect_continuous_var(input_series)"
   ]
  },
  {
   "cell_type": "code",
   "execution_count": 44,
   "metadata": {},
   "outputs": [
    {
     "data": {
      "image/png": "[encoded data removed]",
      "text/plain": [
       "<matplotlib.figure.Figure at 0x112de0f60>"
      ]
     },
     "metadata": {},
     "output_type": "display_data"
    },
    {
     "name": "stdout",
     "output_type": "stream",
     "text": [
      "Min: \t\t\t 2,327\n",
      "Lower Quartile: \t 2,327\n",
      "median: \t\t 19,052\n",
      "mean: \t\t\t 25,075\n",
      "Upper Quartile: \t 54,504\n",
      "max: \t\t\t 54,506\n",
      "\n",
      "\n",
      "Skew: \t\t\t 0.33\n",
      "Kurtosis: \t\t -1.56\n"
     ]
    }
   ],
   "source": [
    "# 'BILL_AMT4' has high kurtosis and is highly skewed. \n",
    "# We will trim these outliers in df_edited_trimmed.\n",
    "\n",
    "trim_max = df_edited_trimmed.BILL_AMT4.quantile(.75)\n",
    "trim_min = df_edited_trimmed.BILL_AMT4.quantile(.25)\n",
    "df_edited_trimmed.BILL_AMT4 = df_edited_trimmed.BILL_AMT4.apply(trim, \n",
    "                                                                trim_max=trim_max,\n",
    "                                                                trim_min=trim_min)\n",
    "\n",
    "input_series = df_edited_trimmed.BILL_AMT4\n",
    "inspect_continuous_var(input_series)"
   ]
  },
  {
   "cell_type": "code",
   "execution_count": 45,
   "metadata": {},
   "outputs": [
    {
     "data": {
      "image/png": "[encoded data removed]",
      "text/plain": [
       "<matplotlib.figure.Figure at 0x1127cd7b8>"
      ]
     },
     "metadata": {},
     "output_type": "display_data"
    },
    {
     "name": "stdout",
     "output_type": "stream",
     "text": [
      "Min: \t\t\t -81,334\n",
      "Lower Quartile: \t 1,763\n",
      "median: \t\t 18,104\n",
      "mean: \t\t\t 40,311\n",
      "Upper Quartile: \t 50,190\n",
      "max: \t\t\t 927,171\n",
      "\n",
      "\n",
      "Skew: \t\t\t 2.88\n",
      "Kurtosis: \t\t 12.31\n"
     ]
    }
   ],
   "source": [
    "# 7. 'BILL_AMT5';\n",
    "\n",
    "# X16 = amount of bill statement in May, 2005; \n",
    "\n",
    "# CONTINUOUS\n",
    "\n",
    "input_series = df['BILL_AMT5']\n",
    "inspect_continuous_var(input_series)"
   ]
  },
  {
   "cell_type": "code",
   "execution_count": 46,
   "metadata": {},
   "outputs": [
    {
     "data": {
      "image/png": "[encoded data removed]",
      "text/plain": [
       "<matplotlib.figure.Figure at 0x114911f60>"
      ]
     },
     "metadata": {},
     "output_type": "display_data"
    },
    {
     "name": "stdout",
     "output_type": "stream",
     "text": [
      "Min: \t\t\t 1,763\n",
      "Lower Quartile: \t 1,763\n",
      "median: \t\t 18,104\n",
      "mean: \t\t\t 22,860\n",
      "Upper Quartile: \t 50,186\n",
      "max: \t\t\t 50,190\n",
      "\n",
      "\n",
      "Skew: \t\t\t 0.34\n",
      "Kurtosis: \t\t -1.55\n"
     ]
    }
   ],
   "source": [
    "# 'BILL_AMT5' has high kurtosis and is highly skewed. \n",
    "# We will trim these outliers in df_edited_trimmed.\n",
    "\n",
    "trim_max = df_edited_trimmed.BILL_AMT5.quantile(.75)\n",
    "trim_min = df_edited_trimmed.BILL_AMT5.quantile(.25)\n",
    "df_edited_trimmed.BILL_AMT5 = df_edited_trimmed.BILL_AMT5.apply(trim, \n",
    "                                                                trim_max=trim_max,\n",
    "                                                                trim_min=trim_min)\n",
    "\n",
    "input_series = df_edited_trimmed.BILL_AMT5\n",
    "inspect_continuous_var(input_series)"
   ]
  },
  {
   "cell_type": "code",
   "execution_count": 47,
   "metadata": {},
   "outputs": [
    {
     "data": {
      "image/png": "[encoded data removed]",
      "text/plain": [
       "<matplotlib.figure.Figure at 0x11293e5c0>"
      ]
     },
     "metadata": {},
     "output_type": "display_data"
    },
    {
     "name": "stdout",
     "output_type": "stream",
     "text": [
      "Min: \t\t\t -339,603\n",
      "Lower Quartile: \t 1,256\n",
      "median: \t\t 17,071\n",
      "mean: \t\t\t 38,872\n",
      "Upper Quartile: \t 49,198\n",
      "max: \t\t\t 961,664\n",
      "\n",
      "\n",
      "Skew: \t\t\t 2.85\n",
      "Kurtosis: \t\t 12.27\n"
     ]
    }
   ],
   "source": [
    "# 8. 'BILL_AMT6';\n",
    "\n",
    "# X17 = amount of bill statement in April, 2005; \n",
    "\n",
    "# CONTINUOUS\n",
    "\n",
    "input_series = df['BILL_AMT6']\n",
    "inspect_continuous_var(input_series)"
   ]
  },
  {
   "cell_type": "code",
   "execution_count": 48,
   "metadata": {},
   "outputs": [
    {
     "data": {
      "image/png": "[encoded data removed]",
      "text/plain": [
       "<matplotlib.figure.Figure at 0x112bd6208>"
      ]
     },
     "metadata": {},
     "output_type": "display_data"
    },
    {
     "name": "stdout",
     "output_type": "stream",
     "text": [
      "Min: \t\t\t 1,256\n",
      "Lower Quartile: \t 1,256\n",
      "median: \t\t 17,071\n",
      "mean: \t\t\t 21,879\n",
      "Upper Quartile: \t 49,197\n",
      "max: \t\t\t 49,198\n",
      "\n",
      "\n",
      "Skew: \t\t\t 0.35\n",
      "Kurtosis: \t\t -1.54\n"
     ]
    }
   ],
   "source": [
    "# 'BILL_AMT6' has high kurtosis and is highly skewed. \n",
    "# We will trim these outliers in df_edited_trimmed.\n",
    "\n",
    "trim_max = df_edited_trimmed.BILL_AMT6.quantile(.75)\n",
    "trim_min = df_edited_trimmed.BILL_AMT6.quantile(.25)\n",
    "df_edited_trimmed.BILL_AMT6 = df_edited_trimmed.BILL_AMT6.apply(trim, \n",
    "                                                                trim_max=trim_max,\n",
    "                                                                trim_min=trim_min)\n",
    "\n",
    "input_series = df_edited_trimmed.BILL_AMT6\n",
    "inspect_continuous_var(input_series)"
   ]
  },
  {
   "cell_type": "markdown",
   "metadata": {},
   "source": [
    "'PAY_AMT1', 'PAY_AMT2', 'PAY_AMT3', 'PAY_AMT4', 'PAY_AMT5', and 'PAY_AMT6' are described as follows:\n",
    "    \n",
    "9. 'PAY_AMT1';\n",
    "10. 'PAY_AMT2';\n",
    "11. 'PAY_AMT3';\n",
    "12. 'PAY_AMT4';\n",
    "13. 'PAY_AMT5'; and\n",
    "14. 'PAY_AMT6'.\n",
    "\n",
    "X18-X23: Amount of previous payment (NT dollar). \n",
    "+ X18 = amount paid in September, 2005; \n",
    "+ X19 = amount paid in August, 2005; \n",
    "+ . . .;\n",
    "+ X23 = amount paid in April, 2005. "
   ]
  },
  {
   "cell_type": "code",
   "execution_count": 49,
   "metadata": {},
   "outputs": [
    {
     "data": {
      "image/png": "[encoded data removed]",
      "text/plain": [
       "<matplotlib.figure.Figure at 0x112bd6eb8>"
      ]
     },
     "metadata": {},
     "output_type": "display_data"
    },
    {
     "name": "stdout",
     "output_type": "stream",
     "text": [
      "Min: \t\t\t 0\n",
      "Lower Quartile: \t 1,000\n",
      "median: \t\t 2,100\n",
      "mean: \t\t\t 5,664\n",
      "Upper Quartile: \t 5,006\n",
      "max: \t\t\t 873,552\n",
      "\n",
      "\n",
      "Skew: \t\t\t 14.67\n",
      "Kurtosis: \t\t 415.25\n"
     ]
    }
   ],
   "source": [
    "# 9. 'PAY_AMT1';\n",
    "\n",
    "# X18 = amount paid in September, 2005; \n",
    "\n",
    "# CONTINUOUS\n",
    "\n",
    "input_series = df['PAY_AMT1']\n",
    "inspect_continuous_var(input_series)"
   ]
  },
  {
   "cell_type": "code",
   "execution_count": 50,
   "metadata": {},
   "outputs": [
    {
     "data": {
      "image/png": "[encoded data removed]",
      "text/plain": [
       "<matplotlib.figure.Figure at 0x112bd65f8>"
      ]
     },
     "metadata": {},
     "output_type": "display_data"
    },
    {
     "name": "stdout",
     "output_type": "stream",
     "text": [
      "Min: \t\t\t 1,000\n",
      "Lower Quartile: \t 1,000\n",
      "median: \t\t 2,100\n",
      "mean: \t\t\t 2,764\n",
      "Upper Quartile: \t 5,006\n",
      "max: \t\t\t 5,006\n",
      "\n",
      "\n",
      "Skew: \t\t\t 0.33\n",
      "Kurtosis: \t\t -1.57\n"
     ]
    }
   ],
   "source": [
    "# 'PAY_AMT1' has high kurtosis and is highly skewed. \n",
    "# We will trim these outliers in df_edited_trimmed.\n",
    "\n",
    "trim_max = df_edited_trimmed.PAY_AMT1.quantile(.75)\n",
    "trim_min = df_edited_trimmed.PAY_AMT1.quantile(.25)\n",
    "df_edited_trimmed.PAY_AMT1 = df_edited_trimmed.PAY_AMT1.apply(trim, \n",
    "                                                                trim_max=trim_max,\n",
    "                                                                trim_min=trim_min)\n",
    "\n",
    "input_series = df_edited_trimmed.PAY_AMT1\n",
    "inspect_continuous_var(input_series)"
   ]
  },
  {
   "cell_type": "code",
   "execution_count": 51,
   "metadata": {},
   "outputs": [
    {
     "data": {
      "image/png": "[encoded data removed]",
      "text/plain": [
       "<matplotlib.figure.Figure at 0x112e742b0>"
      ]
     },
     "metadata": {},
     "output_type": "display_data"
    },
    {
     "name": "stdout",
     "output_type": "stream",
     "text": [
      "Min: \t\t\t 0\n",
      "Lower Quartile: \t 833\n",
      "median: \t\t 2,009\n",
      "mean: \t\t\t 5,921\n",
      "Upper Quartile: \t 5,000\n",
      "max: \t\t\t 1,684,259\n",
      "\n",
      "\n",
      "Skew: \t\t\t 30.45\n",
      "Kurtosis: \t\t 1,641.63\n"
     ]
    }
   ],
   "source": [
    "# 10. 'PAY_AMT2';\n",
    "\n",
    "# X19 = amount paid in August, 2005; \n",
    "\n",
    "# CONTINUOUS\n",
    "\n",
    "input_series = df['PAY_AMT2']\n",
    "inspect_continuous_var(input_series)"
   ]
  },
  {
   "cell_type": "code",
   "execution_count": 52,
   "metadata": {},
   "outputs": [
    {
     "data": {
      "image/png": "[encoded data removed]",
      "text/plain": [
       "<matplotlib.figure.Figure at 0x11266b748>"
      ]
     },
     "metadata": {},
     "output_type": "display_data"
    },
    {
     "name": "stdout",
     "output_type": "stream",
     "text": [
      "Min: \t\t\t 833\n",
      "Lower Quartile: \t 833\n",
      "median: \t\t 2,009\n",
      "mean: \t\t\t 2,658\n",
      "Upper Quartile: \t 5,000\n",
      "max: \t\t\t 5,000\n",
      "\n",
      "\n",
      "Skew: \t\t\t 0.35\n",
      "Kurtosis: \t\t -1.53\n"
     ]
    }
   ],
   "source": [
    "# 'PAY_AMT2' has high kurtosis and is highly skewed. \n",
    "# We will trim these outliers in df_edited_trimmed.\n",
    "\n",
    "trim_max = df_edited_trimmed.PAY_AMT2.quantile(.75)\n",
    "trim_min = df_edited_trimmed.PAY_AMT2.quantile(.25)\n",
    "df_edited_trimmed.PAY_AMT2 = df_edited_trimmed.PAY_AMT2.apply(trim, \n",
    "                                                                trim_max=trim_max,\n",
    "                                                                trim_min=trim_min)\n",
    "\n",
    "input_series = df_edited_trimmed.PAY_AMT2\n",
    "inspect_continuous_var(input_series)"
   ]
  },
  {
   "cell_type": "code",
   "execution_count": 53,
   "metadata": {},
   "outputs": [
    {
     "data": {
      "image/png": "[encoded data removed]",
      "text/plain": [
       "<matplotlib.figure.Figure at 0x1127b12b0>"
      ]
     },
     "metadata": {},
     "output_type": "display_data"
    },
    {
     "name": "stdout",
     "output_type": "stream",
     "text": [
      "Min: \t\t\t 0\n",
      "Lower Quartile: \t 390\n",
      "median: \t\t 1,800\n",
      "mean: \t\t\t 5,226\n",
      "Upper Quartile: \t 4,505\n",
      "max: \t\t\t 896,040\n",
      "\n",
      "\n",
      "Skew: \t\t\t 17.22\n",
      "Kurtosis: \t\t 564.31\n"
     ]
    }
   ],
   "source": [
    "# 11. 'PAY_AMT3';\n",
    "\n",
    "# X20 = amount paid in July, 2005; \n",
    "\n",
    "# CONTINUOUS\n",
    "\n",
    "input_series = df['PAY_AMT3']\n",
    "inspect_continuous_var(input_series)"
   ]
  },
  {
   "cell_type": "code",
   "execution_count": 54,
   "metadata": {},
   "outputs": [
    {
     "data": {
      "image/png": "[encoded data removed]",
      "text/plain": [
       "<matplotlib.figure.Figure at 0x1128bb550>"
      ]
     },
     "metadata": {},
     "output_type": "display_data"
    },
    {
     "name": "stdout",
     "output_type": "stream",
     "text": [
      "Min: \t\t\t 390\n",
      "Lower Quartile: \t 390\n",
      "median: \t\t 1,800\n",
      "mean: \t\t\t 2,212\n",
      "Upper Quartile: \t 4,505\n",
      "max: \t\t\t 4,505\n",
      "\n",
      "\n",
      "Skew: \t\t\t 0.32\n",
      "Kurtosis: \t\t -1.52\n"
     ]
    }
   ],
   "source": [
    "# 'PAY_AMT3' has high kurtosis and is highly skewed. \n",
    "# We will trim these outliers in df_edited_trimmed.\n",
    "\n",
    "trim_max = df_edited_trimmed.PAY_AMT3.quantile(.75)\n",
    "trim_min = df_edited_trimmed.PAY_AMT3.quantile(.25)\n",
    "df_edited_trimmed.PAY_AMT3 = df_edited_trimmed.PAY_AMT3.apply(trim, \n",
    "                                                                trim_max=trim_max,\n",
    "                                                                trim_min=trim_min)\n",
    "\n",
    "input_series = df_edited_trimmed.PAY_AMT3\n",
    "inspect_continuous_var(input_series)"
   ]
  },
  {
   "cell_type": "code",
   "execution_count": 55,
   "metadata": {},
   "outputs": [
    {
     "data": {
      "image/png": "[encoded data removed]",
      "text/plain": [
       "<matplotlib.figure.Figure at 0x11274c6a0>"
      ]
     },
     "metadata": {},
     "output_type": "display_data"
    },
    {
     "name": "stdout",
     "output_type": "stream",
     "text": [
      "Min: \t\t\t 0\n",
      "Lower Quartile: \t 296\n",
      "median: \t\t 1,500\n",
      "mean: \t\t\t 4,826\n",
      "Upper Quartile: \t 4,013\n",
      "max: \t\t\t 621,000\n",
      "\n",
      "\n",
      "Skew: \t\t\t 12.90\n",
      "Kurtosis: \t\t 277.33\n"
     ]
    }
   ],
   "source": [
    "# 12. 'PAY_AMT4';\n",
    "\n",
    "# X21 = amount paid in June, 2005; \n",
    "\n",
    "# CONTINUOUS\n",
    "\n",
    "input_series = df['PAY_AMT4']\n",
    "inspect_continuous_var(input_series)"
   ]
  },
  {
   "cell_type": "code",
   "execution_count": 56,
   "metadata": {},
   "outputs": [
    {
     "data": {
      "image/png": "[encoded data removed]",
      "text/plain": [
       "<matplotlib.figure.Figure at 0x1128bb320>"
      ]
     },
     "metadata": {},
     "output_type": "display_data"
    },
    {
     "name": "stdout",
     "output_type": "stream",
     "text": [
      "Min: \t\t\t 296\n",
      "Lower Quartile: \t 296\n",
      "median: \t\t 1,500\n",
      "mean: \t\t\t 1,937\n",
      "Upper Quartile: \t 4,013\n",
      "max: \t\t\t 4,013\n",
      "\n",
      "\n",
      "Skew: \t\t\t 0.31\n",
      "Kurtosis: \t\t -1.56\n"
     ]
    }
   ],
   "source": [
    "# 'PAY_AMT4' has high kurtosis and is highly skewed. \n",
    "# We will trim these outliers in df_edited_trimmed.\n",
    "\n",
    "trim_max = df_edited_trimmed.PAY_AMT4.quantile(.75)\n",
    "trim_min = df_edited_trimmed.PAY_AMT4.quantile(.25)\n",
    "df_edited_trimmed.PAY_AMT4 = df_edited_trimmed.PAY_AMT4.apply(trim, \n",
    "                                                                trim_max=trim_max,\n",
    "                                                                trim_min=trim_min)\n",
    "\n",
    "input_series = df_edited_trimmed.PAY_AMT4\n",
    "inspect_continuous_var(input_series)"
   ]
  },
  {
   "cell_type": "code",
   "execution_count": 57,
   "metadata": {},
   "outputs": [
    {
     "data": {
      "image/png": "[encoded data removed]",
      "text/plain": [
       "<matplotlib.figure.Figure at 0x112891908>"
      ]
     },
     "metadata": {},
     "output_type": "display_data"
    },
    {
     "name": "stdout",
     "output_type": "stream",
     "text": [
      "Min: \t\t\t 0\n",
      "Lower Quartile: \t 252\n",
      "median: \t\t 1,500\n",
      "mean: \t\t\t 4,799\n",
      "Upper Quartile: \t 4,032\n",
      "max: \t\t\t 426,529\n",
      "\n",
      "\n",
      "Skew: \t\t\t 11.13\n",
      "Kurtosis: \t\t 180.06\n"
     ]
    }
   ],
   "source": [
    "# 13. 'PAY_AMT5';\n",
    "\n",
    "# X22 = amount paid in May, 2005; \n",
    "\n",
    "# CONTINUOUS\n",
    "\n",
    "input_series = df['PAY_AMT5']\n",
    "inspect_continuous_var(input_series)"
   ]
  },
  {
   "cell_type": "code",
   "execution_count": 58,
   "metadata": {},
   "outputs": [
    {
     "data": {
      "image/png": "[encoded data removed]",
      "text/plain": [
       "<matplotlib.figure.Figure at 0x112659f28>"
      ]
     },
     "metadata": {},
     "output_type": "display_data"
    },
    {
     "name": "stdout",
     "output_type": "stream",
     "text": [
      "Min: \t\t\t 252\n",
      "Lower Quartile: \t 253\n",
      "median: \t\t 1,500\n",
      "mean: \t\t\t 1,936\n",
      "Upper Quartile: \t 4,031\n",
      "max: \t\t\t 4,032\n",
      "\n",
      "\n",
      "Skew: \t\t\t 0.30\n",
      "Kurtosis: \t\t -1.56\n"
     ]
    }
   ],
   "source": [
    "# 'PAY_AMT5' has high kurtosis and is highly skewed. \n",
    "# We will trim these outliers in df_edited_trimmed.\n",
    "\n",
    "trim_max = df_edited_trimmed.PAY_AMT5.quantile(.75)\n",
    "trim_min = df_edited_trimmed.PAY_AMT5.quantile(.25)\n",
    "df_edited_trimmed.PAY_AMT5 = df_edited_trimmed.PAY_AMT5.apply(trim, \n",
    "                                                                trim_max=trim_max,\n",
    "                                                                trim_min=trim_min)\n",
    "\n",
    "input_series = df_edited_trimmed.PAY_AMT5\n",
    "inspect_continuous_var(input_series)"
   ]
  },
  {
   "cell_type": "code",
   "execution_count": 59,
   "metadata": {},
   "outputs": [
    {
     "data": {
      "image/png": "[encoded data removed]",
      "text/plain": [
       "<matplotlib.figure.Figure at 0x112ca7588>"
      ]
     },
     "metadata": {},
     "output_type": "display_data"
    },
    {
     "name": "stdout",
     "output_type": "stream",
     "text": [
      "Min: \t\t\t 0\n",
      "Lower Quartile: \t 118\n",
      "median: \t\t 1,500\n",
      "mean: \t\t\t 5,216\n",
      "Upper Quartile: \t 4,000\n",
      "max: \t\t\t 528,666\n",
      "\n",
      "\n",
      "Skew: \t\t\t 10.64\n",
      "Kurtosis: \t\t 167.16\n"
     ]
    }
   ],
   "source": [
    "# 14. 'PAY_AMT6'.\n",
    "\n",
    "# X23 = amount paid in April, 2005; \n",
    "\n",
    "# CONTINUOUS\n",
    "\n",
    "input_series = df['PAY_AMT6']\n",
    "inspect_continuous_var(input_series)"
   ]
  },
  {
   "cell_type": "code",
   "execution_count": 60,
   "metadata": {},
   "outputs": [
    {
     "data": {
      "image/png": "[encoded data removed]",
      "text/plain": [
       "<matplotlib.figure.Figure at 0x112c22940>"
      ]
     },
     "metadata": {},
     "output_type": "display_data"
    },
    {
     "name": "stdout",
     "output_type": "stream",
     "text": [
      "Min: \t\t\t 118\n",
      "Lower Quartile: \t 118\n",
      "median: \t\t 1,500\n",
      "mean: \t\t\t 1,873\n",
      "Upper Quartile: \t 4,000\n",
      "max: \t\t\t 4,000\n",
      "\n",
      "\n",
      "Skew: \t\t\t 0.27\n",
      "Kurtosis: \t\t -1.57\n"
     ]
    }
   ],
   "source": [
    "# 'PAY_AMT6' has high kurtosis and is highly skewed. \n",
    "# We will trim these outliers in df_edited_trimmed.\n",
    "\n",
    "trim_max = df_edited_trimmed.PAY_AMT6.quantile(.75)\n",
    "trim_min = df_edited_trimmed.PAY_AMT6.quantile(.25)\n",
    "df_edited_trimmed.PAY_AMT6 = df_edited_trimmed.PAY_AMT6.apply(trim, \n",
    "                                                                trim_max=trim_max,\n",
    "                                                                trim_min=trim_min)\n",
    "\n",
    "input_series = df_edited_trimmed.PAY_AMT6\n",
    "inspect_continuous_var(input_series)"
   ]
  },
  {
   "cell_type": "markdown",
   "metadata": {},
   "source": [
    "## Export edited DataFrame to new csv file"
   ]
  },
  {
   "cell_type": "code",
   "execution_count": 61,
   "metadata": {
    "collapsed": true
   },
   "outputs": [],
   "source": [
    "temp_df = pd.read_excel(raw_data_file)\n",
    "header_list = list(temp_df.columns)\n",
    "header_list.insert(0, '')"
   ]
  },
  {
   "cell_type": "code",
   "execution_count": 62,
   "metadata": {
    "collapsed": true
   },
   "outputs": [],
   "source": [
    "df_edited_2 = df_edited.copy()\n",
    "df_edited_2.reset_index(inplace=True)\n",
    "\n",
    "arrays = [header_list, list(df_edited_2.columns)]\n",
    "df_edited_2.columns = arrays\n",
    "\n",
    "new_file_name = 'dataset_wrangled.csv'\n",
    "new_file_path = os.path.join(interim_data_dir,\n",
    "                             new_file_name)\n",
    "\n",
    "df_edited_2.to_csv(new_file_path, \n",
    "                   index=False)"
   ]
  },
  {
   "cell_type": "markdown",
   "metadata": {
    "collapsed": true
   },
   "source": [
    "# DELETE\n",
    "    df_edited_trimmed_2 = df_edited_trimmed.copy()\n",
    "    df_edited_trimmed_2.reset_index(inplace=True)\n",
    "\n",
    "    arrays = [header_list, list(df_edited_trimmed_2.columns)]\n",
    "    df_edited_trimmed_2.columns = arrays\n",
    "\n",
    "    new_file_name = 'dataset_wrangled_trimmed.csv'\n",
    "    new_file_path = os.path.join(interim_data_dir,\n",
    "                                 new_file_name)\n",
    "\n",
    "    df_edited_trimmed_2.to_csv(new_file_path, \n",
    "                               index=False)"
   ]
  },
  {
   "cell_type": "markdown",
   "metadata": {},
   "source": [
    "# Call our .py file to wrangle data and export csv"
   ]
  },
  {
   "cell_type": "code",
   "execution_count": 64,
   "metadata": {
    "collapsed": true
   },
   "outputs": [],
   "source": [
    "# import my function from the source code\n",
    "from data.wrangle_dataset import create_wrangled_dataset"
   ]
  },
  {
   "cell_type": "code",
   "execution_count": 65,
   "metadata": {
    "collapsed": true
   },
   "outputs": [],
   "source": [
    "# Create'dataset_wrangled.csv'\n",
    "create_wrangled_dataset(new_file_name='dataset_wrangled.csv', \n",
    "                        trimmed=False)"
   ]
  },
  {
   "cell_type": "code",
   "execution_count": 66,
   "metadata": {
    "collapsed": true
   },
   "outputs": [],
   "source": [
    "# Create'dataset_wrangled.csv'\n",
    "create_wrangled_dataset(new_file_name='dataset_wrangled_trimmed.csv', \n",
    "                        trimmed=True)"
   ]
  },
  {
   "cell_type": "markdown",
   "metadata": {},
   "source": [
    "# Create exhibits for the final report"
   ]
  },
  {
   "cell_type": "code",
   "execution_count": 10,
   "metadata": {
    "collapsed": true
   },
   "outputs": [],
   "source": [
    "# Save the path to the folder that will contain \n",
    "# the figures for the final report:\n",
    "# /reports/figures\n",
    "figures_dir = os.path.join(proj_root,\n",
    "                                \"reports\",\n",
    "                                \"figures\")"
   ]
  },
  {
   "cell_type": "code",
   "execution_count": 47,
   "metadata": {},
   "outputs": [
    {
     "data": {
      "image/png": "[encoded data removed]",
      "text/plain": [
       "<matplotlib.figure.Figure at 0x1138fb710>"
      ]
     },
     "metadata": {},
     "output_type": "display_data"
    }
   ],
   "source": [
    "# figure file_name\n",
    "fig_file_name = 'outliers_figure'\n",
    "\n",
    "# figure file_path\n",
    "fig_path = os.path.join(figures_dir,\n",
    "                        fig_file_name)\n",
    "\n",
    "# Display boxplot and histogram/kde.\n",
    "f, (ax1, ax2) = plt.subplots(2, 1, sharex=True, figsize=(10, 5) )\n",
    "sns.boxplot(x=df['PAY_AMT6'], ax=ax1)\n",
    "ax1.set(xlabel='')\n",
    "\n",
    "sns.distplot(df['PAY_AMT6'], ax=ax2, \n",
    "             axlabel= 'Amount Paid (TWD)')\n",
    "\n",
    "fmt = '{x:,.0f}'\n",
    "tick = mtick.StrMethodFormatter(fmt)\n",
    "ax2.xaxis.set_major_formatter(tick) \n",
    "\n",
    "ax2.set_xlabel(\"Amount Paid (TWD)\",fontsize=15)\n",
    "ax2.tick_params(labelsize=15)\n",
    "\n",
    "font = {'weight' : 'bold',\n",
    "        'size'   : 16}\n",
    "ax1.set_title('Amount Paid in April, 2005', fontdict=font)\n",
    "\n",
    "# Save the figure\n",
    "plt.savefig(fig_path, dpi = 300)\n",
    "plt.show()\n"
   ]
  },
  {
   "cell_type": "markdown",
   "metadata": {},
   "source": [
    "### Calculate some stats about the distribution shown above."
   ]
  },
  {
   "cell_type": "markdown",
   "metadata": {},
   "source": [
    "#### Exchange Rate: New Taiwan Dollars to One U.S. Dollar\n",
    "\n",
    "Source: https://fred.stlouisfed.org/series/AEXTAUS"
   ]
  },
  {
   "cell_type": "code",
   "execution_count": 32,
   "metadata": {
    "collapsed": true
   },
   "outputs": [],
   "source": [
    "#Exchange Rate: New Taiwan Dollars to One U.S. Dollar in 2005\n",
    "twd_usd_xr = 32.131"
   ]
  },
  {
   "cell_type": "code",
   "execution_count": 28,
   "metadata": {},
   "outputs": [
    {
     "name": "stdout",
     "output_type": "stream",
     "text": [
      "Percentage of accounts for which the \n",
      "amount paid in April, 2005 was NT$0:\n",
      "23.9%\n"
     ]
    }
   ],
   "source": [
    "print('Percentage of accounts for which the amount paid')\n",
    "print('in April, 2005 was NT$0:')\n",
    "print('{:,.1f}%'.format(100 * np.sum(df['PAY_AMT6'] == 0) / len(df)))"
   ]
  },
  {
   "cell_type": "code",
   "execution_count": 35,
   "metadata": {},
   "outputs": [
    {
     "name": "stdout",
     "output_type": "stream",
     "text": [
      "Percentage of accounts for which the amount paid\n",
      "in April, 2005 was less than NT$10,000:\n",
      "90.2%\n",
      "(In 2005, NT$10,000 = USD 311.)\n"
     ]
    }
   ],
   "source": [
    "print('Percentage of accounts for which the amount paid')\n",
    "print('in April, 2005 was less than NT$10,000:')\n",
    "print('{:,.1f}%'.format(100 * np.sum(df['PAY_AMT6'] < 10000) / len(df)))\n",
    "\n",
    "print('(In 2005, NT$10,000 = USD {:,.0f}.)'.format(10000 / twd_usd_xr))"
   ]
  },
  {
   "cell_type": "code",
   "execution_count": 36,
   "metadata": {},
   "outputs": [
    {
     "name": "stdout",
     "output_type": "stream",
     "text": [
      "Maximum amount paid in April, 2005:\n",
      "NT$528,666\n",
      "(In 2005, NT$10,000 = USD 16,453.)\n"
     ]
    }
   ],
   "source": [
    "print('Maximum amount paid in April, 2005:')\n",
    "print('NT${:,.0f}'.format(df['PAY_AMT6'].max()))\n",
    "print('(In 2005, NT$10,000 = USD {:,.0f}.)'\\\n",
    "      .format(df['PAY_AMT6'].max() / twd_usd_xr))"
   ]
  },
  {
   "cell_type": "code",
   "execution_count": 31,
   "metadata": {},
   "outputs": [
    {
     "name": "stdout",
     "output_type": "stream",
     "text": [
      "Minimum amount paid in April, 2005:\n",
      "NT$0\n"
     ]
    }
   ],
   "source": [
    "print('Minimum amount paid in April, 2005:')\n",
    "print('NT${:,.0f}'.format(df['PAY_AMT6'].min()))"
   ]
  }
 ],
 "metadata": {
  "kernelspec": {
   "display_name": "Python 3",
   "language": "python",
   "name": "python3"
  },
  "language_info": {
   "codemirror_mode": {
    "name": "ipython",
    "version": 3
   },
   "file_extension": ".py",
   "mimetype": "text/x-python",
   "name": "python",
   "nbconvert_exporter": "python",
   "pygments_lexer": "ipython3",
   "version": "3.6.1"
  }
 },
 "nbformat": 4,
 "nbformat_minor": 2
}
