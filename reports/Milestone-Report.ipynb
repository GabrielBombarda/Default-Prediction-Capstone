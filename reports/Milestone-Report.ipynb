{
 "cells": [
  {
   "cell_type": "markdown",
   "metadata": {},
   "source": [
    "# Milestone Report\n",
    "### For Capstone Project 1 - Credit Card Client Default"
   ]
  },
  {
   "cell_type": "markdown",
   "metadata": {},
   "source": [
    "In this Milestone Report, we will do the following:\n",
    "\n",
    "1. Define the problem;\n",
    "2. Identify our client;\n",
    "3. Describe our data set, and how we cleaned/wrangled it;\n",
    "4. List other potential data sets we could use; and\n",
    "5. Explain our initial findings."
   ]
  },
  {
   "cell_type": "markdown",
   "metadata": {},
   "source": [
    "### 1. Define the problem\n",
    "\n",
    "The goal of this capstone project is to build a machine learning model to predict the probability of default of credit card clients.  Provided with a robust and reliable model to predict the probability of client default, credit card companies would be better equipped manage the risk of their portfolios."
   ]
  },
  {
   "cell_type": "markdown",
   "metadata": {},
   "source": [
    "### 2. Identify your client\n",
    "\n",
    "Our hypothetical client could be any credit card company.\n",
    "\n",
    "Credit card companies could use this model for the following:\n",
    "1.  To create more reliable stochastic cash flow forecasts for the company; and\n",
    "2.  To make better-informed decisions about allowing clients to increase their credit limits."
   ]
  },
  {
   "cell_type": "markdown",
   "metadata": {},
   "source": [
    "### 3. Describe our data set, and how we cleaned/wrangled it;\n",
    "#### Our Data Source\n",
    "\n",
    "The data set that we use for this project is from a sample of Taiwanese credit card clients. This anonymized data set was used by Dr. I-Cheng Yeh in his 2009 paper \"The comparisons of data mining techniques for the predictive accuracy of probability of default of credit card clients.\" [1]  The dataset has been made available to the public and posted on the UC Irvine Machine Learning Repository website (See: http://archive.ics.uci.edu/ml/datasets/default+of+credit+card+clients). \n",
    "\n",
    "The dataset contains 30,000 observations and 24 attributes.  \n",
    "\n",
    "The response variable is a binary variable for default payment in the following month.\n",
    "\n",
    "There are 23 explanatory variables included in the dataset.  These include:\n",
    "\n",
    "    ● History of past payment;\n",
    "    ● Amount of bill statement;\n",
    "    ● Amount of previous payment;\n",
    "    ● Marital status;\n",
    "    ● Education;\n",
    "    ● Age; and\n",
    "    ● Gender.\n",
    "    \n",
    "The dataset posted on the UC Irvine Machine Learning Repository website is in .xls format."
   ]
  },
  {
   "cell_type": "markdown",
   "metadata": {},
   "source": [
    "#### How we cleaned/wrangled the data"
   ]
  },
  {
   "cell_type": "markdown",
   "metadata": {},
   "source": [
    "1. We corrected some erroneous values for the `EDUCATION` feature.\n",
    "2. For each of the six `bill amount` features (one for each of the six prior months), we engineered a new feature: the ratio of $\\left(\\frac{\\text{bill amount}}{\\text{credit limit}}\\right)$.\n",
    "3. For each of the six pairs of `bill amount` and `pay amount` (one pair for each of the six prior months), we engineered a new feature: the ratio of $\\left(\\frac{\\text{bill amount} - \\text{pay amount}}{\\text{credit limit}}\\right)$.\n",
    "4. We renamed columns such that all column names: (1) contained no capital letters, (2) contained no spaces, and (3) were shorter.\n",
    "5. We transformed certain features by taking the natural logarithm.\n",
    "6. We transformed all of the categorical variables using one-hot-encoding.\n"
   ]
  },
  {
   "cell_type": "markdown",
   "metadata": {},
   "source": [
    "### 4. List other potential data sets we could use\n",
    "\n",
    "We did not deem it appropriate or necessary to use any additional sources of data."
   ]
  },
  {
   "cell_type": "markdown",
   "metadata": {},
   "source": [
    "### 5. Explain our initial findings"
   ]
  },
  {
   "cell_type": "markdown",
   "metadata": {},
   "source": [
    "We used logistic regression to test whether or not certain features were statistically significant predictors of default.  We used a significance level of $\\alpha = 0.05$.  We tested the following features:\n",
    "1. age;\n",
    "2. credit limit;\n",
    "3. the ratio of $\\left(\\frac{\\text{bill amount}}{\\text{credit limit}}\\right)$; and\n",
    "4. the ratio of $\\left(\\frac{\\text{bill amount} - \\text{pay amount}}{\\text{credit limit}}\\right)$ \n",
    "\n",
    "We found that each of these features were statistically significant predictors of default."
   ]
  },
  {
   "cell_type": "markdown",
   "metadata": {},
   "source": [
    "#### Citations:\n",
    "\n",
    "[1]  Yeh, I. C., & Lien, C. H. (2009). The comparisons of data mining techniques for the predictive accuracy of probability of default of credit card clients. Expert Systems with Applications, 36(2), 2473-2480."
   ]
  }
 ],
 "metadata": {
  "kernelspec": {
   "display_name": "Python 3",
   "language": "python",
   "name": "python3"
  },
  "language_info": {
   "codemirror_mode": {
    "name": "ipython",
    "version": 3
   },
   "file_extension": ".py",
   "mimetype": "text/x-python",
   "name": "python",
   "nbconvert_exporter": "python",
   "pygments_lexer": "ipython3",
   "version": "3.6.1"
  }
 },
 "nbformat": 4,
 "nbformat_minor": 2
}
